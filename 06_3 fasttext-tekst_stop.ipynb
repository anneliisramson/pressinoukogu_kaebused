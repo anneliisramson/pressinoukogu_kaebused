{
 "cells": [
  {
   "cell_type": "code",
   "execution_count": 1,
   "metadata": {},
   "outputs": [],
   "source": [
    "import pandas as pd\n",
    "import matplotlib.pyplot as plt\n",
    "from sklearn.model_selection import train_test_split\n",
    "import fasttext\n",
    "import numpy as np\n",
    "from sklearn.metrics import classification_report, confusion_matrix"
   ]
  },
  {
   "cell_type": "code",
   "execution_count": 2,
   "metadata": {},
   "outputs": [],
   "source": [
    "#sidesõnad ja asesõnad\n",
    "stopsõnad_uus = ['ja', 'ning', 'ega', 'ehk', 'või', 'aga', 'kuid', 'ent', 'vaid', 'et', 'kui', 'kuna', 'sest', 'kuni', 'kuigi', \n",
    "             'ehkki', 'nagu', 'saati', 'elik', 'justkui', 'otsekui', 'seni', 'siis', 'ka', 'nii', 'kas',\n",
    "             'mina', 'ma', 'meie', 'me', 'sina', 'sa', 'teie', 'te', 'tema', 'ta', 'nemad', 'nad',\n",
    "             'enese', 'enda', 'iseenese', 'iseenda', 'oma', 'üksteise', 'teineteise',\n",
    "             'see', 'too', 'sama', 'seesama', 'toosama', 'teine', 'muu',\n",
    "             'niisugune', 'samasugune', 'niisamasugune', 'selline', 'seesugune', 'säärane','säherdune', \n",
    "             'taoline', 'selletaoline', 'kes', 'mis', 'kumb', 'missugune', 'milline', 'misuke', 'mitu', 'mitmes', 'mitmendik',\n",
    "             'ise', 'oma', 'iga', 'igaüks', 'igamees', 'kõik', 'mõlemad', 'kumbki', 'emb-kumb', 'kogu', 'terve',\n",
    "             'keegi', 'miski', 'mingi', 'mingisugune', 'miskisugune', 'ükski', 'mitu', 'mitmes',\n",
    "             'mõni', 'mõningane', 'paljud', 'üks', 'teine', 'oma', 'enese', 'enda', 'omaenese', 'omaenda', 'iseoma', \n",
    "             'iseenese', 'iseenda', 'emb', 'mõlema', 'palju', '-']"
   ]
  },
  {
   "cell_type": "code",
   "execution_count": 3,
   "metadata": {},
   "outputs": [],
   "source": [
    "stop_tekst = []\n",
    "with open(\"stop_s.txt\", \"r\", encoding = 'utf8') as file:\n",
    "    for line in file:\n",
    "        #print(line.rstrip())\n",
    "        stop_tekst.append(line.rstrip())"
   ]
  },
  {
   "cell_type": "code",
   "execution_count": 4,
   "metadata": {},
   "outputs": [
    {
     "data": {
      "text/plain": [
       "5001"
      ]
     },
     "execution_count": 4,
     "metadata": {},
     "output_type": "execute_result"
    }
   ],
   "source": [
    "len(stop_tekst)"
   ]
  },
  {
   "cell_type": "code",
   "execution_count": 5,
   "metadata": {},
   "outputs": [],
   "source": [
    "# Veamaatriks (plot the confusion matrix)\n",
    "#https://scikit-learn.org/stable/auto_examples/model_selection/plot_confusion_matrix.html)\n",
    "from sklearn import metrics\n",
    "import itertools\n",
    "\n",
    "def plot_confusion_matrix(cm, classes,\n",
    "                          normalize=False,\n",
    "                          title='Segadusmaatriks',\n",
    "                          cmap=plt.cm.Blues):\n",
    "    \n",
    "    plt.imshow(cm, interpolation='nearest', cmap=cmap)\n",
    "    plt.title(title)\n",
    "    plt.colorbar()\n",
    "    tick_marks = np.arange(len(classes))\n",
    "    plt.xticks(tick_marks, classes, rotation=45)\n",
    "    plt.yticks(tick_marks, classes)\n",
    "\n",
    "    if normalize:\n",
    "        cm = cm.astype('float') / cm.sum(axis=1)[:, np.newaxis]\n",
    "        print(\"Normaliseeritud segadusmaatriks\")\n",
    "    else:\n",
    "        print('Normaliseerimata segadusmaatriks')\n",
    "\n",
    "    thresh = cm.max() / 2.\n",
    "    for i, j in itertools.product(range(cm.shape[0]), range(cm.shape[1])):\n",
    "        plt.text(j, i, cm[i, j],\n",
    "                 horizontalalignment=\"center\",\n",
    "                 color=\"white\" if cm[i, j] > thresh else \"black\")\n",
    "\n",
    "    plt.tight_layout()\n",
    "    \n",
    "    plt.ylabel('Tõeline märgend')\n",
    "    plt.xlabel('Prognoositud märgend')"
   ]
  },
  {
   "cell_type": "code",
   "execution_count": 6,
   "metadata": {},
   "outputs": [
    {
     "name": "stdout",
     "output_type": "stream",
     "text": [
      "(636, 55)\n"
     ]
    }
   ],
   "source": [
    "data = pd.read_excel('toofailid/DATA_TEKSTIKOGU_puhastatud.xlsx', engine='openpyxl')\n",
    "print(data.shape)"
   ]
  },
  {
   "cell_type": "code",
   "execution_count": 7,
   "metadata": {},
   "outputs": [],
   "source": [
    "label = data['Lahendi liik'].to_list()\n",
    "labels = data.iloc[:, 16].apply(lambda x: '__label__' + str(x))"
   ]
  },
  {
   "cell_type": "code",
   "execution_count": 8,
   "metadata": {},
   "outputs": [],
   "source": [
    "data.insert(1, \"label\", labels)"
   ]
  },
  {
   "cell_type": "code",
   "execution_count": 9,
   "metadata": {},
   "outputs": [],
   "source": [
    "pr = data['text_token'].to_list()"
   ]
  },
  {
   "cell_type": "code",
   "execution_count": 11,
   "metadata": {},
   "outputs": [],
   "source": [
    "artiklid = []\n",
    "for i in range(len(pr)):\n",
    "    art = []\n",
    "    for el in pr[i].split():\n",
    "        #print(el)\n",
    "        if el not in stop_tekst:\n",
    "            #print(el)\n",
    "            art.append(el)\n",
    "        artikkel = ' '.join(art)\n",
    "    artiklid.append(artikkel)"
   ]
  },
  {
   "cell_type": "code",
   "execution_count": 12,
   "metadata": {},
   "outputs": [],
   "source": [
    "data['text_token_stop'] = artiklid"
   ]
  },
  {
   "cell_type": "code",
   "execution_count": 13,
   "metadata": {},
   "outputs": [
    {
     "data": {
      "text/plain": [
       "636"
      ]
     },
     "execution_count": 13,
     "metadata": {},
     "output_type": "execute_result"
    }
   ],
   "source": [
    "len(artiklid)"
   ]
  },
  {
   "cell_type": "code",
   "execution_count": 14,
   "metadata": {},
   "outputs": [],
   "source": [
    "X = data['text_token_stop']\n",
    "y = data['label']\n",
    "train_df, test_df, y_train, y_test = train_test_split(X, y, test_size=0.2, random_state=42, stratify = y)"
   ]
  },
  {
   "cell_type": "code",
   "execution_count": 15,
   "metadata": {},
   "outputs": [
    {
     "data": {
      "text/plain": [
       "31     kohus arutas põhjalikult fekaalidega määritud ...\n",
       "427    kliendid leiavad swedbank võlgu nõudes arvesta...\n",
       "610    poliitikud kahetsusväärseks olukorda tapa suur...\n",
       "499    loo ilmumise postimehel tõenäoliselt kohtusse ...\n",
       "105    patsient ilukliinikusse suurte ootustega juhtu...\n",
       "                             ...                        \n",
       "198    huvi tundma pärit keel ütlema väändu peipsiäär...\n",
       "93     kolme sõbrannaga möödunud neljapäeva õhtul tal...\n",
       "54     metsatöösturid lageraiete vajalikkusest jutlus...\n",
       "356    tundub keskerakonnale iseenesestmõistetavaks e...\n",
       "489    kohtulugu • eile tartu ringkonnakohtus toimunu...\n",
       "Name: text_token_stop, Length: 508, dtype: object"
      ]
     },
     "execution_count": 15,
     "metadata": {},
     "output_type": "execute_result"
    }
   ],
   "source": [
    "train_df"
   ]
  },
  {
   "cell_type": "code",
   "execution_count": 16,
   "metadata": {},
   "outputs": [],
   "source": [
    "# Treenimisandmestik tekstifaili\n",
    "#train = train_df.to_list()\n",
    "#train_label = y_train.to_list()\n",
    "#tekstid = list(map(lambda x, y: x+ ' ' +y, train_label, train))\n",
    "tekstid = list(map(lambda x, y: x+ ' ' +y, y_train, train_df))\n",
    "textfile = open('train_tekst_stop.txt', \"w\", encoding = 'utf8')\n",
    "for element in tekstid:\n",
    "    textfile.write(element + \"\\n\")\n",
    "textfile.close()"
   ]
  },
  {
   "cell_type": "code",
   "execution_count": 17,
   "metadata": {},
   "outputs": [],
   "source": [
    "# Testandmestik tekstifaili\n",
    "#train = train_df.to_list()\n",
    "#train_label = y_train.to_list()\n",
    "#tekstid = list(map(lambda x, y: x+ ' ' +y, train_label, train))\n",
    "tekstid = list(map(lambda x, y: x+ ' ' +y, y_test, test_df))\n",
    "textfile = open('test_tekst_stop.txt', \"w\", encoding = 'utf8')\n",
    "for element in tekstid:\n",
    "    textfile.write(element + \"\\n\")\n",
    "textfile.close()"
   ]
  },
  {
   "cell_type": "code",
   "execution_count": 57,
   "metadata": {},
   "outputs": [],
   "source": [
    "# tekst stoppsõnadeta\n",
    "model1 = fasttext.train_supervised(input = 'train_tekst_stop.txt',\n",
    "                                  epoch=25, \n",
    "                                  lr = 0.5,\n",
    "                                  #wordNgrams=2,\n",
    "                                  #loss='hs',\n",
    "                                  #bucket=200000,\n",
    "                                  dim = 300)"
   ]
  },
  {
   "cell_type": "code",
   "execution_count": 58,
   "metadata": {},
   "outputs": [
    {
     "name": "stdout",
     "output_type": "stream",
     "text": [
      "                        precision    recall  f1-score   support\n",
      "\n",
      "       __label__tauniv       0.64      0.36      0.46        58\n",
      "__label__õigeksmõistev       0.61      0.83      0.70        70\n",
      "\n",
      "             micro avg       0.62      0.62      0.62       128\n",
      "             macro avg       0.62      0.60      0.58       128\n",
      "          weighted avg       0.62      0.62      0.59       128\n",
      "\n",
      "Normaliseerimata segadusmaatriks\n"
     ]
    },
    {
     "data": {
      "image/png": "[encoded data removed]",
      "text/plain": [
       "<Figure size 432x288 with 2 Axes>"
      ]
     },
     "metadata": {
      "needs_background": "light"
     },
     "output_type": "display_data"
    }
   ],
   "source": [
    "# Mudeli põhjal test-andmestiku väärtuste prognoosimine\n",
    "y_pred1 = []\n",
    "for t in test_df:\n",
    "    ennustus = model1.predict(t)[0][0]\n",
    "    y_pred1.append(ennustus)\n",
    "print(classification_report(y_test, y_pred1))\n",
    "cm = metrics.confusion_matrix(y_test, y_pred1)\n",
    "plot_confusion_matrix(cm, classes=['Tauniv', 'Õigeksmõistev'])"
   ]
  },
  {
   "cell_type": "code",
   "execution_count": 53,
   "metadata": {},
   "outputs": [],
   "source": [
    "model2 = fasttext.train_supervised(input = 'train_tekst_stop.txt',\n",
    "                                   dim = 300,\n",
    "                                   lr = 0.5,\n",
    "                                   epoch = 25,\n",
    "                                   pretrainedVectors='cc.et.300.vec')"
   ]
  },
  {
   "cell_type": "code",
   "execution_count": 54,
   "metadata": {},
   "outputs": [
    {
     "name": "stdout",
     "output_type": "stream",
     "text": [
      "                        precision    recall  f1-score   support\n",
      "\n",
      "       __label__tauniv       0.62      0.34      0.44        58\n",
      "__label__õigeksmõistev       0.60      0.83      0.70        70\n",
      "\n",
      "             micro avg       0.61      0.61      0.61       128\n",
      "             macro avg       0.61      0.59      0.57       128\n",
      "          weighted avg       0.61      0.61      0.58       128\n",
      "\n",
      "Normaliseerimata segadusmaatriks\n"
     ]
    },
    {
     "data": {
      "image/png": "[encoded data removed]",
      "text/plain": [
       "<Figure size 432x288 with 2 Axes>"
      ]
     },
     "metadata": {
      "needs_background": "light"
     },
     "output_type": "display_data"
    }
   ],
   "source": [
    "y_pred2 = []\n",
    "for t in test_df:\n",
    "    ennustus = model2.predict(t)[0][0]\n",
    "    y_pred2.append(ennustus)\n",
    "print(classification_report(y_test, y_pred2))\n",
    "cm = metrics.confusion_matrix(y_test, y_pred2)\n",
    "plot_confusion_matrix(cm, classes=['Tauniv', 'Õigeksmõistev'])"
   ]
  },
  {
   "cell_type": "code",
   "execution_count": 55,
   "metadata": {},
   "outputs": [],
   "source": [
    "model3 = fasttext.train_supervised(input = 'train_tekst_stop.txt',\n",
    "                                  dim = 300,\n",
    "                                  lr = 0.5,\n",
    "                                  epoch = 25,\n",
    "                                  pretrainedVectors='wiki.et.vec')"
   ]
  },
  {
   "cell_type": "code",
   "execution_count": 56,
   "metadata": {},
   "outputs": [
    {
     "name": "stdout",
     "output_type": "stream",
     "text": [
      "                        precision    recall  f1-score   support\n",
      "\n",
      "       __label__tauniv       0.55      0.36      0.44        58\n",
      "__label__õigeksmõistev       0.59      0.76      0.66        70\n",
      "\n",
      "             micro avg       0.58      0.58      0.58       128\n",
      "             macro avg       0.57      0.56      0.55       128\n",
      "          weighted avg       0.57      0.58      0.56       128\n",
      "\n",
      "Normaliseerimata segadusmaatriks\n"
     ]
    },
    {
     "data": {
      "image/png": "[encoded data removed]",
      "text/plain": [
       "<Figure size 432x288 with 2 Axes>"
      ]
     },
     "metadata": {
      "needs_background": "light"
     },
     "output_type": "display_data"
    }
   ],
   "source": [
    "y_pred3 = []\n",
    "for t in test_df:\n",
    "    ennustus = model3.predict(t)[0][0]\n",
    "    y_pred3.append(ennustus)\n",
    "print(classification_report(y_test, y_pred3))\n",
    "cm = metrics.confusion_matrix(y_test, y_pred3)\n",
    "plot_confusion_matrix(cm, classes=['Tauniv', 'Õigeksmõistev'])"
   ]
  },
  {
   "cell_type": "code",
   "execution_count": null,
   "metadata": {},
   "outputs": [],
   "source": []
  }
 ],
 "metadata": {
  "kernelspec": {
   "display_name": "Python 3",
   "language": "python",
   "name": "python3"
  },
  "language_info": {
   "codemirror_mode": {
    "name": "ipython",
    "version": 3
   },
   "file_extension": ".py",
   "mimetype": "text/x-python",
   "name": "python",
   "nbconvert_exporter": "python",
   "pygments_lexer": "ipython3",
   "version": "3.6.10"
  }
 },
 "nbformat": 4,
 "nbformat_minor": 4
}
