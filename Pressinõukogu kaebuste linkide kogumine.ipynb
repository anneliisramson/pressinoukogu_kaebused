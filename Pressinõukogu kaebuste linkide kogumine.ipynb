{
 "cells": [
  {
   "cell_type": "markdown",
   "metadata": {},
   "source": [
    "# Pressinõugule esitatud kaebuste linkide kogumine"
   ]
  },
  {
   "cell_type": "code",
   "execution_count": 165,
   "metadata": {},
   "outputs": [],
   "source": [
    "import pandas as pd\n",
    "from tqdm import tqdm"
   ]
  },
  {
   "cell_type": "code",
   "execution_count": 166,
   "metadata": {},
   "outputs": [],
   "source": [
    "data = pd.read_csv('trykimeedia.csv')"
   ]
  },
  {
   "cell_type": "code",
   "execution_count": 167,
   "metadata": {},
   "outputs": [
    {
     "data": {
      "text/html": [
       "<div>\n",
       "<style scoped>\n",
       "    .dataframe tbody tr th:only-of-type {\n",
       "        vertical-align: middle;\n",
       "    }\n",
       "\n",
       "    .dataframe tbody tr th {\n",
       "        vertical-align: top;\n",
       "    }\n",
       "\n",
       "    .dataframe thead th {\n",
       "        text-align: right;\n",
       "    }\n",
       "</style>\n",
       "<table border=\"1\" class=\"dataframe\">\n",
       "  <thead>\n",
       "    <tr style=\"text-align: right;\">\n",
       "      <th></th>\n",
       "      <th>#</th>\n",
       "      <th>Väljaanne</th>\n",
       "      <th>Kaebuse sisu</th>\n",
       "      <th>Lahendi kuupäev</th>\n",
       "      <th>Lahendi liik</th>\n",
       "      <th>Otsuse sisu</th>\n",
       "      <th>Koodeks</th>\n",
       "      <th>Väljaande nimi</th>\n",
       "    </tr>\n",
       "  </thead>\n",
       "  <tbody>\n",
       "    <tr>\n",
       "      <th>0</th>\n",
       "      <td>1081</td>\n",
       "      <td>Pärnu Postimees 07.12.21 Käre pakane viis buss...</td>\n",
       "      <td>Kaebaja leiab, et artikli foto on eksitav, ses...</td>\n",
       "      <td>27.01.22</td>\n",
       "      <td>õigeksmõistev</td>\n",
       "      <td>ÕIGEKSMÕISTEV: Pärnu Postimees ei eksinud ajak...</td>\n",
       "      <td>[]</td>\n",
       "      <td>Pärnu Postimees</td>\n",
       "    </tr>\n",
       "    <tr>\n",
       "      <th>1</th>\n",
       "      <td>1080</td>\n",
       "      <td>Eesti Ekspress 08.12.21 Varro Vooglaid räägib ...</td>\n",
       "      <td>Kaebaja hinnangul jätab artikli juhtlõik temas...</td>\n",
       "      <td>27.01.22</td>\n",
       "      <td>õigeksmõistev</td>\n",
       "      <td>ÕIGEKSMÕISTEV: Ekspress ei eksinud ajakirjandu...</td>\n",
       "      <td>[]</td>\n",
       "      <td>Eesti Ekspress</td>\n",
       "    </tr>\n",
       "    <tr>\n",
       "      <th>2</th>\n",
       "      <td>1079</td>\n",
       "      <td>Hiiu Leht 03.12.21 Maksumaksjale läks Valge In...</td>\n",
       "      <td>Kaebaja leiab, et artiklis ja juhtkirjas on te...</td>\n",
       "      <td>27.01.22</td>\n",
       "      <td>tauniv</td>\n",
       "      <td>TAUNIV: Hiiu Leht rikkus ajakirjanduseetika ko...</td>\n",
       "      <td>['5.1', '3.3']</td>\n",
       "      <td>Hiiu Leht</td>\n",
       "    </tr>\n",
       "    <tr>\n",
       "      <th>3</th>\n",
       "      <td>1078</td>\n",
       "      <td>Hiiu Leht 22.10.21 Jalutuskäik Tiit Leito elut...</td>\n",
       "      <td>Kaebaja ei ole rahul, et tema vastulauset ei a...</td>\n",
       "      <td>27.01.22</td>\n",
       "      <td>õigeksmõistev</td>\n",
       "      <td>ÕIGEKSMÕISTEV: Hiiu Leht ei eksinud ajakirjand...</td>\n",
       "      <td>[]</td>\n",
       "      <td>Hiiu Leht</td>\n",
       "    </tr>\n",
       "    <tr>\n",
       "      <th>4</th>\n",
       "      <td>1077</td>\n",
       "      <td>Õhtuleht 01.12.21</td>\n",
       "      <td>Kaebaja leiab, et artikkel on pahatahtlik ja s...</td>\n",
       "      <td>27.01.2022</td>\n",
       "      <td>õigeksmõistev</td>\n",
       "      <td>ÕIGEKSMÕISTEV: Õhtuleht ei rikkunud head ajaki...</td>\n",
       "      <td>[]</td>\n",
       "      <td>Õhtuleht</td>\n",
       "    </tr>\n",
       "    <tr>\n",
       "      <th>...</th>\n",
       "      <td>...</td>\n",
       "      <td>...</td>\n",
       "      <td>...</td>\n",
       "      <td>...</td>\n",
       "      <td>...</td>\n",
       "      <td>...</td>\n",
       "      <td>...</td>\n",
       "      <td>...</td>\n",
       "    </tr>\n",
       "    <tr>\n",
       "      <th>762</th>\n",
       "      <td>7</td>\n",
       "      <td>Estonija 11.11.02 \"Keemia ja elu\"</td>\n",
       "      <td>Kaebaja väitel on artikkel täis faktivigu nin...</td>\n",
       "      <td>27.02.03</td>\n",
       "      <td>tauniv</td>\n",
       "      <td>TAUNIV: Artiklis on rikutud mitut ajakirjandus...</td>\n",
       "      <td>[]</td>\n",
       "      <td>Estonija</td>\n",
       "    </tr>\n",
       "    <tr>\n",
       "      <th>763</th>\n",
       "      <td>6</td>\n",
       "      <td>Virumaa Teataja 23.10.02 \"Selja hakkab uut sä...</td>\n",
       "      <td>Kaebaja väitel levitab ajaleht kaebaja Karepa...</td>\n",
       "      <td>16.01.03</td>\n",
       "      <td>õigeksmõistev</td>\n",
       "      <td>ÕIGEKSMÕISTEV: Pressinõukogu leidis, et viimas...</td>\n",
       "      <td>[]</td>\n",
       "      <td>Virumaa Teataja</td>\n",
       "    </tr>\n",
       "    <tr>\n",
       "      <th>764</th>\n",
       "      <td>4</td>\n",
       "      <td>Molodjoz Estonii 17.10.02 \"Rootslased on soke...</td>\n",
       "      <td>Kaebaja ei ole rahul artikli juures avaldatud...</td>\n",
       "      <td>28.11.02</td>\n",
       "      <td>õigeksmõistev</td>\n",
       "      <td>ÕIGEKSMÕISTEV: Pressinõukogu arvates pole kaeb...</td>\n",
       "      <td>[]</td>\n",
       "      <td>Molodjoz Estonii</td>\n",
       "    </tr>\n",
       "    <tr>\n",
       "      <th>765</th>\n",
       "      <td>3</td>\n",
       "      <td>Äripäev 28.08.02 \"Ettevõtted hoiavad võõra vö...</td>\n",
       "      <td>Kaebaja arvates annab võõra võõtkoodi kasutam...</td>\n",
       "      <td>26.09.02</td>\n",
       "      <td>õigeksmõistev</td>\n",
       "      <td>ÕIGEKSMÕISTEV: Pressinõukogu seisukohalt pole ...</td>\n",
       "      <td>['1.10']</td>\n",
       "      <td>Äripäev</td>\n",
       "    </tr>\n",
       "    <tr>\n",
       "      <th>766</th>\n",
       "      <td>2</td>\n",
       "      <td>Äripäev 29.07.02 \"Juustutootjad keelduvad koo...</td>\n",
       "      <td>Kaebaja leiab, et leht annab eksitavat ja tem...</td>\n",
       "      <td>26.09.02</td>\n",
       "      <td>tauniv</td>\n",
       "      <td>TAUNIV: Pressinõukogu pidas artikli esilehe pe...</td>\n",
       "      <td>['1.10']</td>\n",
       "      <td>Äripäev</td>\n",
       "    </tr>\n",
       "  </tbody>\n",
       "</table>\n",
       "<p>767 rows × 8 columns</p>\n",
       "</div>"
      ],
      "text/plain": [
       "        #                                          Väljaanne  \\\n",
       "0    1081  Pärnu Postimees 07.12.21 Käre pakane viis buss...   \n",
       "1    1080  Eesti Ekspress 08.12.21 Varro Vooglaid räägib ...   \n",
       "2    1079  Hiiu Leht 03.12.21 Maksumaksjale läks Valge In...   \n",
       "3    1078  Hiiu Leht 22.10.21 Jalutuskäik Tiit Leito elut...   \n",
       "4    1077                                 Õhtuleht 01.12.21    \n",
       "..    ...                                                ...   \n",
       "762     7                 Estonija 11.11.02 \"Keemia ja elu\"    \n",
       "763     6   Virumaa Teataja 23.10.02 \"Selja hakkab uut sä...   \n",
       "764     4   Molodjoz Estonii 17.10.02 \"Rootslased on soke...   \n",
       "765     3   Äripäev 28.08.02 \"Ettevõtted hoiavad võõra vö...   \n",
       "766     2   Äripäev 29.07.02 \"Juustutootjad keelduvad koo...   \n",
       "\n",
       "                                          Kaebuse sisu Lahendi kuupäev  \\\n",
       "0    Kaebaja leiab, et artikli foto on eksitav, ses...        27.01.22   \n",
       "1    Kaebaja hinnangul jätab artikli juhtlõik temas...        27.01.22   \n",
       "2    Kaebaja leiab, et artiklis ja juhtkirjas on te...        27.01.22   \n",
       "3    Kaebaja ei ole rahul, et tema vastulauset ei a...        27.01.22   \n",
       "4    Kaebaja leiab, et artikkel on pahatahtlik ja s...      27.01.2022   \n",
       "..                                                 ...             ...   \n",
       "762   Kaebaja väitel on artikkel täis faktivigu nin...        27.02.03   \n",
       "763   Kaebaja väitel levitab ajaleht kaebaja Karepa...        16.01.03   \n",
       "764   Kaebaja ei ole rahul artikli juures avaldatud...        28.11.02   \n",
       "765   Kaebaja arvates annab võõra võõtkoodi kasutam...        26.09.02   \n",
       "766   Kaebaja leiab, et leht annab eksitavat ja tem...        26.09.02   \n",
       "\n",
       "      Lahendi liik                                        Otsuse sisu  \\\n",
       "0    õigeksmõistev  ÕIGEKSMÕISTEV: Pärnu Postimees ei eksinud ajak...   \n",
       "1    õigeksmõistev  ÕIGEKSMÕISTEV: Ekspress ei eksinud ajakirjandu...   \n",
       "2           tauniv  TAUNIV: Hiiu Leht rikkus ajakirjanduseetika ko...   \n",
       "3    õigeksmõistev  ÕIGEKSMÕISTEV: Hiiu Leht ei eksinud ajakirjand...   \n",
       "4    õigeksmõistev  ÕIGEKSMÕISTEV: Õhtuleht ei rikkunud head ajaki...   \n",
       "..             ...                                                ...   \n",
       "762         tauniv  TAUNIV: Artiklis on rikutud mitut ajakirjandus...   \n",
       "763  õigeksmõistev  ÕIGEKSMÕISTEV: Pressinõukogu leidis, et viimas...   \n",
       "764  õigeksmõistev  ÕIGEKSMÕISTEV: Pressinõukogu arvates pole kaeb...   \n",
       "765  õigeksmõistev  ÕIGEKSMÕISTEV: Pressinõukogu seisukohalt pole ...   \n",
       "766         tauniv  TAUNIV: Pressinõukogu pidas artikli esilehe pe...   \n",
       "\n",
       "            Koodeks    Väljaande nimi  \n",
       "0                []   Pärnu Postimees  \n",
       "1                []    Eesti Ekspress  \n",
       "2    ['5.1', '3.3']         Hiiu Leht  \n",
       "3                []         Hiiu Leht  \n",
       "4                []          Õhtuleht  \n",
       "..              ...               ...  \n",
       "762              []          Estonija  \n",
       "763              []   Virumaa Teataja  \n",
       "764              []  Molodjoz Estonii  \n",
       "765        ['1.10']           Äripäev  \n",
       "766        ['1.10']           Äripäev  \n",
       "\n",
       "[767 rows x 8 columns]"
      ]
     },
     "execution_count": 167,
     "metadata": {},
     "output_type": "execute_result"
    }
   ],
   "source": [
    "data"
   ]
  },
  {
   "cell_type": "code",
   "execution_count": 168,
   "metadata": {},
   "outputs": [],
   "source": [
    "s = data['Väljaanne'].to_list()"
   ]
  },
  {
   "cell_type": "code",
   "execution_count": 169,
   "metadata": {},
   "outputs": [
    {
     "data": {
      "text/plain": [
       "767"
      ]
     },
     "execution_count": 169,
     "metadata": {},
     "output_type": "execute_result"
    }
   ],
   "source": [
    "len(s)"
   ]
  },
  {
   "cell_type": "markdown",
   "metadata": {},
   "source": [
    "# Töötab kaua!!!!!!"
   ]
  },
  {
   "cell_type": "code",
   "execution_count": 185,
   "metadata": {},
   "outputs": [
    {
     "name": "stderr",
     "output_type": "stream",
     "text": [
      "100%|████████████████████████████████████████████████████████████████████████████████| 767/767 [50:27<00:00,  3.95s/it]\n"
     ]
    }
   ],
   "source": [
    "try:\n",
    "    from googlesearch import search\n",
    "except ImportError:\n",
    "    print(\"No module named 'google' found\")\n",
    "artiklid_lingid = [] \n",
    "jrk_lingid = []\n",
    "\n",
    "for i in tqdm(range(len(s))):\n",
    "    for j in search(s[i], tld=\"co.in\", num = 1, stop = 1, pause=2):\n",
    "        #print(i, j)\n",
    "        jrk_lingid.append(i)\n",
    "        artiklid_lingid.append(j)"
   ]
  },
  {
   "cell_type": "code",
   "execution_count": 187,
   "metadata": {},
   "outputs": [
    {
     "data": {
      "text/plain": [
       "759"
      ]
     },
     "execution_count": 187,
     "metadata": {},
     "output_type": "execute_result"
    }
   ],
   "source": [
    "len(artiklid_lingid)"
   ]
  },
  {
   "cell_type": "code",
   "execution_count": 188,
   "metadata": {},
   "outputs": [],
   "source": [
    "lingid_koos = list(zip(jrk_lingid, artiklid_lingid))"
   ]
  },
  {
   "cell_type": "code",
   "execution_count": 189,
   "metadata": {},
   "outputs": [],
   "source": [
    "lnk = []\n",
    "i = 0\n",
    "for count, value in enumerate(lingid_koos):\n",
    "    if count == value[0] - i:\n",
    "        lnk.append(value[1])\n",
    "    else:\n",
    "        i = i + 1\n",
    "        lnk.append('link leidmata')\n",
    "        lnk.append(value[1])"
   ]
  },
  {
   "cell_type": "code",
   "execution_count": 191,
   "metadata": {},
   "outputs": [
    {
     "data": {
      "text/plain": [
       "767"
      ]
     },
     "execution_count": 191,
     "metadata": {},
     "output_type": "execute_result"
    }
   ],
   "source": [
    "len(lnk)"
   ]
  },
  {
   "cell_type": "code",
   "execution_count": 192,
   "metadata": {},
   "outputs": [],
   "source": [
    "lnk_tagavara = lnk.copy()"
   ]
  },
  {
   "cell_type": "code",
   "execution_count": 193,
   "metadata": {},
   "outputs": [],
   "source": [
    "lingid = pd.DataFrame(lnk)\n",
    "lingid.to_csv('lingid_10022022.csv')"
   ]
  },
  {
   "cell_type": "code",
   "execution_count": 194,
   "metadata": {},
   "outputs": [],
   "source": [
    "data['Lingid'] = lnk"
   ]
  },
  {
   "cell_type": "code",
   "execution_count": 196,
   "metadata": {},
   "outputs": [],
   "source": [
    "data.to_csv('linkidega_10022022.csv',index=False)\n",
    "read_file = pd.read_csv (r'linkidega_10022022.csv')\n",
    "read_file.to_excel (r'linkidega_10022022.xlsx', index = None, header=True)"
   ]
  }
 ],
 "metadata": {
  "kernelspec": {
   "display_name": "Python 3",
   "language": "python",
   "name": "python3"
  },
  "language_info": {
   "codemirror_mode": {
    "name": "ipython",
    "version": 3
   },
   "file_extension": ".py",
   "mimetype": "text/x-python",
   "name": "python",
   "nbconvert_exporter": "python",
   "pygments_lexer": "ipython3",
   "version": "3.6.10"
  }
 },
 "nbformat": 4,
 "nbformat_minor": 4
}
