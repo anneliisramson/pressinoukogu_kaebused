{
 "cells": [
  {
   "cell_type": "markdown",
   "metadata": {},
   "source": [
    "# 06_1 Klassifitseerimismudelid - logistiline regressioon"
   ]
  },
  {
   "cell_type": "code",
   "execution_count": 1,
   "metadata": {},
   "outputs": [],
   "source": [
    "import pandas as pd\n",
    "import matplotlib.pyplot as plt"
   ]
  },
  {
   "cell_type": "code",
   "execution_count": 7,
   "metadata": {
    "scrolled": false
   },
   "outputs": [
    {
     "name": "stdout",
     "output_type": "stream",
     "text": [
      "(636, 55)\n"
     ]
    }
   ],
   "source": [
    "data = pd.read_excel('toofailid/DATA_TEKSTIKOGU_puhastatud.xlsx', engine='openpyxl')\n",
    "print(data.shape)"
   ]
  },
  {
   "cell_type": "code",
   "execution_count": 8,
   "metadata": {},
   "outputs": [],
   "source": [
    "sagedused = data['Lahendi liik'].value_counts()"
   ]
  },
  {
   "cell_type": "code",
   "execution_count": 9,
   "metadata": {},
   "outputs": [
    {
     "data": {
      "text/plain": [
       "õigeksmõistev    350\n",
       "tauniv           286\n",
       "Name: Lahendi liik, dtype: int64"
      ]
     },
     "execution_count": 9,
     "metadata": {},
     "output_type": "execute_result"
    }
   ],
   "source": [
    "sagedused"
   ]
  },
  {
   "cell_type": "code",
   "execution_count": 10,
   "metadata": {},
   "outputs": [],
   "source": [
    "# Andmestiku segamine\n",
    "#from sklearn.utils import shuffle\n",
    "#data = shuffle(data)\n",
    "#data = data.reset_index(drop=True)"
   ]
  },
  {
   "cell_type": "code",
   "execution_count": 11,
   "metadata": {},
   "outputs": [],
   "source": [
    "# Ebavajaliku info  (aeg, pealkiri) eemaldamine\n",
    "#data.drop([\"date\"],axis=1,inplace=True)\n",
    "#data.drop([\"title\"],axis=1,inplace=True)\n",
    "#data.drop([\"subject\"],axis=1,inplace=True)\n",
    "#data.drop([\"link\"],axis=1,inplace=True)"
   ]
  },
  {
   "cell_type": "code",
   "execution_count": 12,
   "metadata": {},
   "outputs": [],
   "source": [
    "#tekst_puhas = data['text_puhas'].to_list()\n",
    "#tekst_tokenize = data['text_token'].to_list()\n",
    "#tekst_lemmatize = data['text_lemmatize'].to_list()\n",
    "#label = data['Lahendi liik'].to_list()"
   ]
  },
  {
   "cell_type": "markdown",
   "metadata": {},
   "source": [
    "Stoppsõnadena on kasutusel sidesõnad ja sidesõnad koos asesõnadega."
   ]
  },
  {
   "cell_type": "code",
   "execution_count": 13,
   "metadata": {},
   "outputs": [],
   "source": [
    "#https://et.wikipedia.org/wiki/Sides%C3%B5na\n",
    "#https://www.taskutark.ee/m/asesonad/\n",
    "#sidesõnad\n",
    "stopsõnad = ['ja', 'ning', 'ega', 'ehk', 'või', 'aga', 'kuid', 'ent', 'vaid', 'et', 'kui', 'kuna', 'sest', 'kuni', 'kuigi', \n",
    "             'ehkki', 'nagu', 'saati', 'elik', 'justkui', 'otsekui', 'seni']\n",
    "#sidesõnad ja asesõnad\n",
    "stopsõnad_uus = ['ja', 'ning', 'ega', 'ehk', 'või', 'aga', 'kuid', 'ent', 'vaid', 'et', 'kui', 'kuna', 'sest', 'kuni', 'kuigi', \n",
    "             'ehkki', 'nagu', 'saati', 'elik', 'justkui', 'otsekui', 'seni', 'siis', 'ka', 'nii', 'kas',\n",
    "             'mina', 'ma', 'meie', 'me', 'sina', 'sa', 'teie', 'te', 'tema', 'ta', 'nemad', 'nad',\n",
    "             'enese', 'enda', 'iseenese', 'iseenda', 'oma', 'üksteise', 'teineteise',\n",
    "             'see', 'too', 'sama', 'seesama', 'toosama', 'teine', 'muu',\n",
    "             'niisugune', 'samasugune', 'niisamasugune', 'selline', 'seesugune', 'säärane','säherdune', \n",
    "             'taoline', 'selletaoline', 'kes', 'mis', 'kumb', 'missugune', 'milline', 'misuke', 'mitu', 'mitmes', 'mitmendik',\n",
    "             'ise', 'oma', 'iga', 'igaüks', 'igamees', 'kõik', 'mõlemad', 'kumbki', 'emb-kumb', 'kogu', 'terve',\n",
    "             'keegi', 'miski', 'mingi', 'mingisugune', 'miskisugune', 'ükski', 'mitu', 'mitmes',\n",
    "             'mõni', 'mõningane', 'paljud', 'üks', 'teine', 'oma', 'enese', 'enda', 'omaenese', 'omaenda', 'iseoma', \n",
    "             'iseenese', 'iseenda', 'emb', 'mõlema', 'palju', '-']"
   ]
  },
  {
   "cell_type": "markdown",
   "metadata": {},
   "source": [
    "# Veamaatriks, segadusmaatriks (confusion matrix)"
   ]
  },
  {
   "cell_type": "markdown",
   "metadata": {},
   "source": [
    "Veamaatriks väljendab saadud mudeli headust. Maatriksi peadiagonaalil asetsevad kõik klassifikaatori pool õigesti ennustatud väärtused: õiged positiivsed, õiged negatiivsed. Kõik, mis jääb peadiagonaalilt välja, on väärad: vale positiivsed, vale negatiivsed. Mida rohkem õigeid negatiivseid ja õigeid positiivseid tulemusi, seda parem mudel. "
   ]
  },
  {
   "cell_type": "markdown",
   "metadata": {},
   "source": [
    "                  Väär  | õige negatiivne    | vale positiivne\n",
    "                  _______________________________________________          Tegelik märgend\n",
    "                  \n",
    "                  Tõene | vale negatiivne    | õige positiivne\n",
    "                  _______________________________________________\n",
    "                              Väär                Tõene\n",
    "                  \n",
    "                                Ennustatud märgend\n",
    "   \n",
    "                    "
   ]
  },
  {
   "cell_type": "code",
   "execution_count": 14,
   "metadata": {},
   "outputs": [],
   "source": [
    "# Veamaatriks (plot the confusion matrix)\n",
    "#https://scikit-learn.org/stable/auto_examples/model_selection/plot_confusion_matrix.html)\n",
    "from sklearn import metrics\n",
    "import itertools\n",
    "\n",
    "def plot_confusion_matrix(cm, classes,\n",
    "                          normalize=False,\n",
    "                          title='Veamaatriks',\n",
    "                          cmap=plt.cm.Blues):\n",
    "    \n",
    "    plt.imshow(cm, interpolation='nearest', cmap=cmap)\n",
    "    plt.title(title)\n",
    "    plt.colorbar()\n",
    "    tick_marks = np.arange(len(classes))\n",
    "    plt.xticks(tick_marks, classes, rotation=45)\n",
    "    plt.yticks(tick_marks, classes)\n",
    "\n",
    "    if normalize:\n",
    "        cm = cm.astype('float') / cm.sum(axis=1)[:, np.newaxis]\n",
    "        print(\"Normaliseeritud veamaatriks\")\n",
    "    else:\n",
    "        print('Normaliseerimata veamaatriks')\n",
    "\n",
    "    thresh = cm.max() / 2.\n",
    "    for i, j in itertools.product(range(cm.shape[0]), range(cm.shape[1])):\n",
    "        plt.text(j, i, cm[i, j],\n",
    "                 horizontalalignment=\"center\",\n",
    "                 color=\"white\" if cm[i, j] > thresh else \"black\")\n",
    "\n",
    "    plt.tight_layout()\n",
    "    \n",
    "    plt.ylabel('True label/Tõeline märgend')\n",
    "    plt.xlabel('Predicted label/Prognoositud märgend')"
   ]
  },
  {
   "cell_type": "markdown",
   "metadata": {},
   "source": [
    "# Sõnade vektoresitused ja dokument-sõna maatriks"
   ]
  },
  {
   "cell_type": "markdown",
   "metadata": {},
   "source": [
    "Tekstide automaatsel klassifitseerimisel või klasterdamisel viiakse analüüsitava korpuse dokumendid vektorkujule ehk:\n",
    "\n",
    "luuakse iga korpuse sõna kohta vektor, mille iga positsioon kirjeldab sõna esinemist ühes korpuse dokumendis;\n",
    "kõigi sõnade vektoritest pannakse kokku maatriks, mille järgi saab leida nii üksiksõnade esinemismustreid kui ka dokumenti iseloomustava sõnavaramustri.\n",
    "Sarnasuste leidmisel tuginevadki statistilised meetodid maatriksile ning tekstide omadused, mis maatriksis ei kajastu (nt sõnade omavaheline järjekord, lausestus, süntaks vms) tulemust otseselt ka ei mõjuta. \n",
    "\n",
    "Klass CountVectorizer võimaldab luua sõnavektoreid, mille iga positsioon kirjeldab sõna esinemissagedust ühes dokumendis. Klassi initsialiseerimisel on võimalik täpsustada mitmeid teksti eeltöötluse samme, nt kas sõnad tuleks teisendada väiketähelisteks (vaikimisi: jah), kuidas (millise meetodi abil) jagada tekst sõnadeks ning millised sõnad on nn stopp-sõnad, mis tuleks välja jätta.\n",
    "\n",
    "TfidfVectorizer kasutab sõnasageduste asemel TF-IDF-skoori, mis näitab, kuivõrd iseloomulik on sõna mingile tekstile korpuses. TF (term frequency) on sõna esinemissagedus tekstis, IDF (inverse document frequency) kajastab seda, kui paljudes korpuse dokumentides see sõna üldse esineb, TF-IDF on nende korrutis."
   ]
  },
  {
   "cell_type": "markdown",
   "metadata": {},
   "source": [
    "# Mudelid"
   ]
  },
  {
   "cell_type": "markdown",
   "metadata": {},
   "source": [
    "### Logistiline regressioon (Logistic regression)"
   ]
  },
  {
   "cell_type": "markdown",
   "metadata": {},
   "source": [
    "Pipeline'i on ühendatud eeltöötluse sammud: vektoriseerimine, teisendamine ja klassifitseerimine. Mudelite katsetamisel saab muuta sõnestajat, stoppsõnade loetelu ja teisi parameetreid. Mudeli headust hinnatakse täpsusmäära (accuracy) abil. Täpsusmäär näitab, milline oli õigete ennustuste osakaal kõikidest ennustustest."
   ]
  },
  {
   "cell_type": "markdown",
   "metadata": {},
   "source": [
    "Ristvalideerimisega saab hinnata ennustava mudeli täpsust. K-korda ristvalideerimisel jagatakse esialgsed andmed juhuslikult k-liikmelisteks võrdseteks osavalimiteks. Üks osavalimitest valitakse valideerimisandmeteks ning ülejäänuid osavalimeid kasutatakse mudeli treenimiseks. Mudel verifitseeritakse k korda, kusjuures iga osavalimit kasutatakse valideerimisandmetena parajasti üks kord. Viimasel sammul arvutatakse keskmine mudeli täpsuse näitaja üle k kordamise."
   ]
  },
  {
   "cell_type": "code",
   "execution_count": 15,
   "metadata": {},
   "outputs": [
    {
     "data": {
      "text/plain": [
       "Index(['#', 'title', 'text', 'Kaebuse kuupäev', 'Kaebuse aasta', 'Väljaanne',\n",
       "       'Väljaande nimi1', 'Lingid', 'Lingid1', 'Dea_digar', 'Kaebuse sisu',\n",
       "       'Lahendi tulemus1', 'Lahendi tulemus2', 'Lahendi kuupäev',\n",
       "       'Otsuse sisu', 'Otsuse liik', 'Lahendi liik', 'Väljaande nimi',\n",
       "       'Väljaande liik', 'Koodeks', '1.2', '1.4', '1.5', '1.6', '2.3', '3.1',\n",
       "       '3.2', '3.3', '3.5', '3.6', '3.7', '4.1', '4.2', '4.3', '4.4', '4.6',\n",
       "       '4.7', '4.8', '4.9', '4.10', '4.11', '4.12', '5.1', '5.2', '5.3', '6.1',\n",
       "       'Koodeksipunkte', 'text_puhas', 'text_token', 'text_lemmatize', 'T1_4',\n",
       "       'T4_1', 'T4_11', 'T_muu', 'ÕM'],\n",
       "      dtype='object')"
      ]
     },
     "execution_count": 15,
     "metadata": {},
     "output_type": "execute_result"
    }
   ],
   "source": [
    "data.columns"
   ]
  },
  {
   "cell_type": "code",
   "execution_count": 16,
   "metadata": {},
   "outputs": [],
   "source": [
    "X, y = data['text_token'], data['Lahendi liik']"
   ]
  },
  {
   "cell_type": "code",
   "execution_count": 17,
   "metadata": {},
   "outputs": [],
   "source": [
    "# Andmete tükeldamine treenimisandmestikuks ja testandmestikuks\n",
    "from sklearn.model_selection import train_test_split\n",
    "X_train,X_test,y_train,y_test = train_test_split(X, y, test_size=0.2, random_state=42, stratify=y)"
   ]
  },
  {
   "cell_type": "code",
   "execution_count": 18,
   "metadata": {},
   "outputs": [
    {
     "name": "stdout",
     "output_type": "stream",
     "text": [
      "C väärtus: 0.1\n"
     ]
    },
    {
     "name": "stderr",
     "output_type": "stream",
     "text": [
      "C:\\Users\\annel\\anaconda3\\envs\\AL_keskkond\\lib\\site-packages\\sklearn\\linear_model\\logistic.py:436: FutureWarning: Default solver will be changed to 'lbfgs' in 0.22. Specify a solver to silence this warning.\n",
      "  FutureWarning)\n",
      "C:\\Users\\annel\\anaconda3\\envs\\AL_keskkond\\lib\\site-packages\\sklearn\\metrics\\classification.py:1143: UndefinedMetricWarning: Precision and F-score are ill-defined and being set to 0.0 in labels with no predicted samples.\n",
      "  'precision', 'predicted', average, warn_for)\n"
     ]
    },
    {
     "name": "stdout",
     "output_type": "stream",
     "text": [
      "               precision    recall  f1-score   support\n",
      "\n",
      "       tauniv      0.000     0.000     0.000        96\n",
      "õigeksmõistev      0.549     1.000     0.709       117\n",
      "\n",
      "    micro avg      0.549     0.549     0.549       213\n",
      "    macro avg      0.275     0.500     0.355       213\n",
      " weighted avg      0.302     0.549     0.390       213\n",
      "\n",
      "Confusion Matrix: [[  0  96]\n",
      " [  0 117]]\n",
      "               precision    recall  f1-score   support\n",
      "\n",
      "       tauniv      0.000     0.000     0.000        95\n",
      "õigeksmõistev      0.552     1.000     0.711       117\n",
      "\n",
      "    micro avg      0.552     0.552     0.552       212\n",
      "    macro avg      0.276     0.500     0.356       212\n",
      " weighted avg      0.305     0.552     0.393       212\n",
      "\n",
      "Confusion Matrix: [[  0  95]\n",
      " [  0 117]]\n",
      "               precision    recall  f1-score   support\n",
      "\n",
      "       tauniv      0.000     0.000     0.000        95\n",
      "õigeksmõistev      0.548     0.991     0.706       116\n",
      "\n",
      "    micro avg      0.545     0.545     0.545       211\n",
      "    macro avg      0.274     0.496     0.353       211\n",
      " weighted avg      0.301     0.545     0.388       211\n",
      "\n",
      "Confusion Matrix: [[  0  95]\n",
      " [  1 115]]\n",
      "Mean accuracy:  0.5487354212610607\n",
      "Std for accuracy:  0.0028297252901885945\n",
      "C väärtus: 0.2\n"
     ]
    },
    {
     "name": "stderr",
     "output_type": "stream",
     "text": [
      "C:\\Users\\annel\\anaconda3\\envs\\AL_keskkond\\lib\\site-packages\\sklearn\\linear_model\\logistic.py:436: FutureWarning: Default solver will be changed to 'lbfgs' in 0.22. Specify a solver to silence this warning.\n",
      "  FutureWarning)\n"
     ]
    },
    {
     "name": "stdout",
     "output_type": "stream",
     "text": [
      "               precision    recall  f1-score   support\n",
      "\n",
      "       tauniv      0.000     0.000     0.000        96\n",
      "õigeksmõistev      0.547     0.991     0.705       117\n",
      "\n",
      "    micro avg      0.545     0.545     0.545       213\n",
      "    macro avg      0.274     0.496     0.353       213\n",
      " weighted avg      0.301     0.545     0.387       213\n",
      "\n",
      "Confusion Matrix: [[  0  96]\n",
      " [  1 116]]\n",
      "               precision    recall  f1-score   support\n",
      "\n",
      "       tauniv      1.000     0.021     0.041        95\n",
      "õigeksmõistev      0.557     1.000     0.716       117\n",
      "\n",
      "    micro avg      0.561     0.561     0.561       212\n",
      "    macro avg      0.779     0.511     0.378       212\n",
      " weighted avg      0.756     0.561     0.413       212\n",
      "\n",
      "Confusion Matrix: [[  2  93]\n",
      " [  0 117]]\n",
      "               precision    recall  f1-score   support\n",
      "\n",
      "       tauniv      0.250     0.011     0.020        95\n",
      "õigeksmõistev      0.546     0.974     0.700       116\n",
      "\n",
      "    micro avg      0.540     0.540     0.540       211\n",
      "    macro avg      0.398     0.492     0.360       211\n",
      " weighted avg      0.413     0.540     0.394       211\n",
      "\n",
      "Confusion Matrix: [[  1  94]\n",
      " [  3 113]]\n",
      "Mean accuracy:  0.5487353512912302\n",
      "Std for accuracy:  0.00907202651478353\n",
      "C väärtus: 0.5\n"
     ]
    },
    {
     "name": "stderr",
     "output_type": "stream",
     "text": [
      "C:\\Users\\annel\\anaconda3\\envs\\AL_keskkond\\lib\\site-packages\\sklearn\\linear_model\\logistic.py:436: FutureWarning: Default solver will be changed to 'lbfgs' in 0.22. Specify a solver to silence this warning.\n",
      "  FutureWarning)\n"
     ]
    },
    {
     "name": "stdout",
     "output_type": "stream",
     "text": [
      "               precision    recall  f1-score   support\n",
      "\n",
      "       tauniv      0.692     0.094     0.165        96\n",
      "õigeksmõistev      0.565     0.966     0.713       117\n",
      "\n",
      "    micro avg      0.573     0.573     0.573       213\n",
      "    macro avg      0.629     0.530     0.439       213\n",
      " weighted avg      0.622     0.573     0.466       213\n",
      "\n",
      "Confusion Matrix: [[  9  87]\n",
      " [  4 113]]\n",
      "               precision    recall  f1-score   support\n",
      "\n",
      "       tauniv      0.556     0.105     0.177        95\n",
      "õigeksmõistev      0.562     0.932     0.701       117\n",
      "\n",
      "    micro avg      0.561     0.561     0.561       212\n",
      "    macro avg      0.559     0.518     0.439       212\n",
      " weighted avg      0.559     0.561     0.466       212\n",
      "\n",
      "Confusion Matrix: [[ 10  85]\n",
      " [  8 109]]\n",
      "               precision    recall  f1-score   support\n",
      "\n",
      "       tauniv      0.600     0.126     0.209        95\n",
      "õigeksmõistev      0.565     0.931     0.704       116\n",
      "\n",
      "    micro avg      0.569     0.569     0.569       211\n",
      "    macro avg      0.583     0.529     0.456       211\n",
      " weighted avg      0.581     0.569     0.481       211\n",
      "\n",
      "Confusion Matrix: [[ 12  83]\n",
      " [  8 108]]\n",
      "Mean accuracy:  0.5676036956385145\n",
      "Std for accuracy:  0.004740342615610861\n",
      "C väärtus: 1\n"
     ]
    },
    {
     "name": "stderr",
     "output_type": "stream",
     "text": [
      "C:\\Users\\annel\\anaconda3\\envs\\AL_keskkond\\lib\\site-packages\\sklearn\\linear_model\\logistic.py:436: FutureWarning: Default solver will be changed to 'lbfgs' in 0.22. Specify a solver to silence this warning.\n",
      "  FutureWarning)\n"
     ]
    },
    {
     "name": "stdout",
     "output_type": "stream",
     "text": [
      "               precision    recall  f1-score   support\n",
      "\n",
      "       tauniv      0.704     0.198     0.309        96\n",
      "õigeksmõistev      0.586     0.932     0.719       117\n",
      "\n",
      "    micro avg      0.601     0.601     0.601       213\n",
      "    macro avg      0.645     0.565     0.514       213\n",
      " weighted avg      0.639     0.601     0.534       213\n",
      "\n",
      "Confusion Matrix: [[ 19  77]\n",
      " [  8 109]]\n",
      "               precision    recall  f1-score   support\n",
      "\n",
      "       tauniv      0.514     0.200     0.288        95\n",
      "õigeksmõistev      0.566     0.846     0.678       117\n",
      "\n",
      "    micro avg      0.557     0.557     0.557       212\n",
      "    macro avg      0.540     0.523     0.483       212\n",
      " weighted avg      0.542     0.557     0.503       212\n",
      "\n",
      "Confusion Matrix: [[19 76]\n",
      " [18 99]]\n",
      "               precision    recall  f1-score   support\n",
      "\n",
      "       tauniv      0.484     0.158     0.238        95\n",
      "õigeksmõistev      0.556     0.862     0.676       116\n",
      "\n",
      "    micro avg      0.545     0.545     0.545       211\n",
      "    macro avg      0.520     0.510     0.457       211\n",
      " weighted avg      0.523     0.545     0.479       211\n",
      "\n",
      "Confusion Matrix: [[ 15  80]\n",
      " [ 16 100]]\n",
      "Mean accuracy:  0.5675221458011734\n",
      "Std for accuracy:  0.024097544914602597\n",
      "C väärtus: 2\n"
     ]
    },
    {
     "name": "stderr",
     "output_type": "stream",
     "text": [
      "C:\\Users\\annel\\anaconda3\\envs\\AL_keskkond\\lib\\site-packages\\sklearn\\linear_model\\logistic.py:436: FutureWarning: Default solver will be changed to 'lbfgs' in 0.22. Specify a solver to silence this warning.\n",
      "  FutureWarning)\n"
     ]
    },
    {
     "name": "stdout",
     "output_type": "stream",
     "text": [
      "               precision    recall  f1-score   support\n",
      "\n",
      "       tauniv      0.592     0.302     0.400        96\n",
      "õigeksmõistev      0.591     0.829     0.690       117\n",
      "\n",
      "    micro avg      0.592     0.592     0.592       213\n",
      "    macro avg      0.592     0.566     0.545       213\n",
      " weighted avg      0.592     0.592     0.560       213\n",
      "\n",
      "Confusion Matrix: [[29 67]\n",
      " [20 97]]\n",
      "               precision    recall  f1-score   support\n",
      "\n",
      "       tauniv      0.540     0.284     0.372        95\n",
      "õigeksmõistev      0.580     0.803     0.674       117\n",
      "\n",
      "    micro avg      0.571     0.571     0.571       212\n",
      "    macro avg      0.560     0.544     0.523       212\n",
      " weighted avg      0.562     0.571     0.539       212\n",
      "\n",
      "Confusion Matrix: [[27 68]\n",
      " [23 94]]\n",
      "               precision    recall  f1-score   support\n",
      "\n",
      "       tauniv      0.477     0.221     0.302        95\n",
      "õigeksmõistev      0.557     0.802     0.657       116\n",
      "\n",
      "    micro avg      0.540     0.540     0.540       211\n",
      "    macro avg      0.517     0.511     0.480       211\n",
      " weighted avg      0.521     0.540     0.497       211\n",
      "\n",
      "Confusion Matrix: [[21 74]\n",
      " [23 93]]\n",
      "Mean accuracy:  0.5675294576484512\n",
      "Std for accuracy:  0.02105271365656125\n",
      "C väärtus: 5\n"
     ]
    },
    {
     "name": "stderr",
     "output_type": "stream",
     "text": [
      "C:\\Users\\annel\\anaconda3\\envs\\AL_keskkond\\lib\\site-packages\\sklearn\\linear_model\\logistic.py:436: FutureWarning: Default solver will be changed to 'lbfgs' in 0.22. Specify a solver to silence this warning.\n",
      "  FutureWarning)\n"
     ]
    },
    {
     "name": "stdout",
     "output_type": "stream",
     "text": [
      "               precision    recall  f1-score   support\n",
      "\n",
      "       tauniv      0.627     0.438     0.515        96\n",
      "õigeksmõistev      0.630     0.786     0.700       117\n",
      "\n",
      "    micro avg      0.629     0.629     0.629       213\n",
      "    macro avg      0.629     0.612     0.607       213\n",
      " weighted avg      0.629     0.629     0.617       213\n",
      "\n",
      "Confusion Matrix: [[42 54]\n",
      " [25 92]]\n",
      "               precision    recall  f1-score   support\n",
      "\n",
      "       tauniv      0.516     0.337     0.408        95\n",
      "õigeksmõistev      0.580     0.744     0.652       117\n",
      "\n",
      "    micro avg      0.561     0.561     0.561       212\n",
      "    macro avg      0.548     0.540     0.530       212\n",
      " weighted avg      0.551     0.561     0.542       212\n",
      "\n",
      "Confusion Matrix: [[32 63]\n",
      " [30 87]]\n",
      "               precision    recall  f1-score   support\n",
      "\n",
      "       tauniv      0.490     0.253     0.333        95\n",
      "õigeksmõistev      0.562     0.784     0.655       116\n",
      "\n",
      "    micro avg      0.545     0.545     0.545       211\n",
      "    macro avg      0.526     0.519     0.494       211\n",
      " weighted avg      0.529     0.545     0.510       211\n",
      "\n",
      "Confusion Matrix: [[24 71]\n",
      " [25 91]]\n",
      "Mean accuracy:  0.5784841442067009\n",
      "Std for accuracy:  0.036409505907631784\n",
      "C väärtus: 5.5\n"
     ]
    },
    {
     "name": "stderr",
     "output_type": "stream",
     "text": [
      "C:\\Users\\annel\\anaconda3\\envs\\AL_keskkond\\lib\\site-packages\\sklearn\\linear_model\\logistic.py:436: FutureWarning: Default solver will be changed to 'lbfgs' in 0.22. Specify a solver to silence this warning.\n",
      "  FutureWarning)\n"
     ]
    },
    {
     "name": "stdout",
     "output_type": "stream",
     "text": [
      "               precision    recall  f1-score   support\n",
      "\n",
      "       tauniv      0.627     0.438     0.515        96\n",
      "õigeksmõistev      0.630     0.786     0.700       117\n",
      "\n",
      "    micro avg      0.629     0.629     0.629       213\n",
      "    macro avg      0.629     0.612     0.607       213\n",
      " weighted avg      0.629     0.629     0.617       213\n",
      "\n",
      "Confusion Matrix: [[42 54]\n",
      " [25 92]]\n",
      "               precision    recall  f1-score   support\n",
      "\n",
      "       tauniv      0.508     0.337     0.405        95\n",
      "õigeksmõistev      0.577     0.735     0.647       117\n",
      "\n",
      "    micro avg      0.557     0.557     0.557       212\n",
      "    macro avg      0.543     0.536     0.526       212\n",
      " weighted avg      0.546     0.557     0.538       212\n",
      "\n",
      "Confusion Matrix: [[32 63]\n",
      " [31 86]]\n",
      "               precision    recall  f1-score   support\n",
      "\n",
      "       tauniv      0.490     0.253     0.333        95\n",
      "õigeksmõistev      0.562     0.784     0.655       116\n",
      "\n",
      "    micro avg      0.545     0.545     0.545       211\n",
      "    macro avg      0.526     0.519     0.494       211\n",
      " weighted avg      0.529     0.545     0.510       211\n",
      "\n",
      "Confusion Matrix: [[24 71]\n",
      " [25 91]]\n",
      "Mean accuracy:  0.5769118171626758\n",
      "Std for accuracy:  0.0372098033860469\n",
      "C väärtus: 6\n"
     ]
    },
    {
     "name": "stderr",
     "output_type": "stream",
     "text": [
      "C:\\Users\\annel\\anaconda3\\envs\\AL_keskkond\\lib\\site-packages\\sklearn\\linear_model\\logistic.py:436: FutureWarning: Default solver will be changed to 'lbfgs' in 0.22. Specify a solver to silence this warning.\n",
      "  FutureWarning)\n"
     ]
    },
    {
     "name": "stdout",
     "output_type": "stream",
     "text": [
      "               precision    recall  f1-score   support\n",
      "\n",
      "       tauniv      0.618     0.438     0.512        96\n",
      "õigeksmõistev      0.628     0.778     0.695       117\n",
      "\n",
      "    micro avg      0.624     0.624     0.624       213\n",
      "    macro avg      0.623     0.608     0.603       213\n",
      " weighted avg      0.623     0.624     0.612       213\n",
      "\n",
      "Confusion Matrix: [[42 54]\n",
      " [26 91]]\n",
      "               precision    recall  f1-score   support\n",
      "\n",
      "       tauniv      0.508     0.337     0.405        95\n",
      "õigeksmõistev      0.577     0.735     0.647       117\n",
      "\n",
      "    micro avg      0.557     0.557     0.557       212\n",
      "    macro avg      0.543     0.536     0.526       212\n",
      " weighted avg      0.546     0.557     0.538       212\n",
      "\n",
      "Confusion Matrix: [[32 63]\n",
      " [31 86]]\n",
      "               precision    recall  f1-score   support\n",
      "\n",
      "       tauniv      0.490     0.253     0.333        95\n",
      "õigeksmõistev      0.562     0.784     0.655       116\n",
      "\n",
      "    micro avg      0.545     0.545     0.545       211\n",
      "    macro avg      0.526     0.519     0.494       211\n",
      " weighted avg      0.529     0.545     0.510       211\n",
      "\n",
      "Confusion Matrix: [[24 71]\n",
      " [25 91]]\n",
      "Mean accuracy:  0.5753468719357587\n",
      "Std for accuracy:  0.035015700757559234\n",
      "C väärtus: 10\n"
     ]
    },
    {
     "name": "stderr",
     "output_type": "stream",
     "text": [
      "C:\\Users\\annel\\anaconda3\\envs\\AL_keskkond\\lib\\site-packages\\sklearn\\linear_model\\logistic.py:436: FutureWarning: Default solver will be changed to 'lbfgs' in 0.22. Specify a solver to silence this warning.\n",
      "  FutureWarning)\n"
     ]
    },
    {
     "name": "stdout",
     "output_type": "stream",
     "text": [
      "               precision    recall  f1-score   support\n",
      "\n",
      "       tauniv      0.629     0.458     0.530        96\n",
      "õigeksmõistev      0.636     0.778     0.700       117\n",
      "\n",
      "    micro avg      0.634     0.634     0.634       213\n",
      "    macro avg      0.632     0.618     0.615       213\n",
      " weighted avg      0.633     0.634     0.623       213\n",
      "\n",
      "Confusion Matrix: [[44 52]\n",
      " [26 91]]\n",
      "               precision    recall  f1-score   support\n",
      "\n",
      "       tauniv      0.500     0.337     0.403        95\n",
      "õigeksmõistev      0.574     0.726     0.642       117\n",
      "\n",
      "    micro avg      0.552     0.552     0.552       212\n",
      "    macro avg      0.537     0.532     0.522       212\n",
      " weighted avg      0.541     0.552     0.534       212\n",
      "\n",
      "Confusion Matrix: [[32 63]\n",
      " [32 85]]\n",
      "               precision    recall  f1-score   support\n",
      "\n",
      "       tauniv      0.469     0.242     0.319        95\n",
      "õigeksmõistev      0.556     0.776     0.647       116\n",
      "\n",
      "    micro avg      0.536     0.536     0.536       211\n",
      "    macro avg      0.512     0.509     0.483       211\n",
      " weighted avg      0.517     0.536     0.500       211\n",
      "\n",
      "Confusion Matrix: [[23 72]\n",
      " [26 90]]\n",
      "Mean accuracy:  0.5737448776836404\n",
      "Std for accuracy:  0.042988218532009424\n",
      "C väärtus: 20\n"
     ]
    },
    {
     "name": "stderr",
     "output_type": "stream",
     "text": [
      "C:\\Users\\annel\\anaconda3\\envs\\AL_keskkond\\lib\\site-packages\\sklearn\\linear_model\\logistic.py:436: FutureWarning: Default solver will be changed to 'lbfgs' in 0.22. Specify a solver to silence this warning.\n",
      "  FutureWarning)\n"
     ]
    },
    {
     "name": "stdout",
     "output_type": "stream",
     "text": [
      "               precision    recall  f1-score   support\n",
      "\n",
      "       tauniv      0.600     0.469     0.526        96\n",
      "õigeksmõistev      0.630     0.744     0.682       117\n",
      "\n",
      "    micro avg      0.620     0.620     0.620       213\n",
      "    macro avg      0.615     0.606     0.604       213\n",
      " weighted avg      0.617     0.620     0.612       213\n",
      "\n",
      "Confusion Matrix: [[45 51]\n",
      " [30 87]]\n",
      "               precision    recall  f1-score   support\n",
      "\n",
      "       tauniv      0.500     0.347     0.410        95\n",
      "õigeksmõistev      0.575     0.718     0.639       117\n",
      "\n",
      "    micro avg      0.552     0.552     0.552       212\n",
      "    macro avg      0.538     0.533     0.524       212\n",
      " weighted avg      0.542     0.552     0.536       212\n",
      "\n",
      "Confusion Matrix: [[33 62]\n",
      " [33 84]]\n",
      "               precision    recall  f1-score   support\n",
      "\n",
      "       tauniv      0.472     0.263     0.338        95\n",
      "õigeksmõistev      0.557     0.759     0.642       116\n",
      "\n",
      "    micro avg      0.536     0.536     0.536       211\n",
      "    macro avg      0.514     0.511     0.490       211\n",
      " weighted avg      0.519     0.536     0.505       211\n",
      "\n",
      "Confusion Matrix: [[25 70]\n",
      " [28 88]]\n",
      "Mean accuracy:  0.5690500420028891\n",
      "Std for accuracy:  0.03644373176268285\n",
      "C väärtus: 50\n"
     ]
    },
    {
     "name": "stderr",
     "output_type": "stream",
     "text": [
      "C:\\Users\\annel\\anaconda3\\envs\\AL_keskkond\\lib\\site-packages\\sklearn\\linear_model\\logistic.py:436: FutureWarning: Default solver will be changed to 'lbfgs' in 0.22. Specify a solver to silence this warning.\n",
      "  FutureWarning)\n"
     ]
    },
    {
     "name": "stdout",
     "output_type": "stream",
     "text": [
      "               precision    recall  f1-score   support\n",
      "\n",
      "       tauniv      0.595     0.458     0.518        96\n",
      "õigeksmõistev      0.626     0.744     0.680       117\n",
      "\n",
      "    micro avg      0.615     0.615     0.615       213\n",
      "    macro avg      0.610     0.601     0.599       213\n",
      " weighted avg      0.612     0.615     0.607       213\n",
      "\n",
      "Confusion Matrix: [[44 52]\n",
      " [30 87]]\n",
      "               precision    recall  f1-score   support\n",
      "\n",
      "       tauniv      0.500     0.358     0.417        95\n",
      "õigeksmõistev      0.576     0.709     0.636       117\n",
      "\n",
      "    micro avg      0.552     0.552     0.552       212\n",
      "    macro avg      0.538     0.534     0.527       212\n",
      " weighted avg      0.542     0.552     0.538       212\n",
      "\n",
      "Confusion Matrix: [[34 61]\n",
      " [34 83]]\n",
      "               precision    recall  f1-score   support\n",
      "\n",
      "       tauniv      0.472     0.263     0.338        95\n",
      "õigeksmõistev      0.557     0.759     0.642       116\n",
      "\n",
      "    micro avg      0.536     0.536     0.536       211\n",
      "    macro avg      0.514     0.511     0.490       211\n",
      " weighted avg      0.519     0.536     0.505       211\n",
      "\n",
      "Confusion Matrix: [[25 70]\n",
      " [28 88]]\n",
      "Mean accuracy:  0.5674850967759721\n",
      "Std for accuracy:  0.03427035984697629\n"
     ]
    }
   ],
   "source": [
    "from sklearn.model_selection import StratifiedKFold\n",
    "from sklearn.pipeline import Pipeline\n",
    "from sklearn.feature_extraction.text import CountVectorizer\n",
    "from sklearn.feature_extraction.text import TfidfTransformer\n",
    "from sklearn.linear_model import LogisticRegression\n",
    "from sklearn.metrics import classification_report\n",
    "from sklearn.metrics import classification_report, f1_score, accuracy_score, confusion_matrix\n",
    "import numpy as np\n",
    "import matplotlib.pyplot as plt\n",
    "\n",
    "skf = StratifiedKFold(n_splits=3)\n",
    "\n",
    "c_list = [0.1, 0.2, 0.5, 1, 2, 5, 5.5, 6, 10, 20, 50]\n",
    "\n",
    "mean_accuracy = []\n",
    "\n",
    "for c in c_list:\n",
    "    print(\"C väärtus: \" + str(c))\n",
    "    \n",
    "    metrics = []\n",
    "\n",
    "    for train_index, test_index in skf.split(X, y):\n",
    "        X_train, X_test = X[train_index], X[test_index]\n",
    "        y_train, y_test = y[train_index], y[test_index]\n",
    "\n",
    "        pipe = Pipeline([('vect', CountVectorizer(min_df = 3)),#tokenizer = lemmatize_with_estnltk, stop_words = stopsõnad_uus)),\n",
    "                       ('tfidf', TfidfTransformer()),\n",
    "                       ('model', LogisticRegression(C = c))])\n",
    "\n",
    "        # Mudeli sobitamine\n",
    "        model = pipe.fit(X_train, y_train)\n",
    "\n",
    "        # Prognoosimine\n",
    "        y_pred = model.predict(X_test)\n",
    "      \n",
    "        metrics.append(accuracy_score(y_test, y_pred))\n",
    "        \n",
    "\n",
    "        print(classification_report(y_test, y_pred, digits = 3))\n",
    "        print('Confusion Matrix:',confusion_matrix(y_test, y_pred))\n",
    "        \n",
    "    metrics = np.array(metrics)\n",
    "    print('Mean accuracy: ', np.mean(metrics, axis=0))\n",
    "    mean_accuracy.append(np.mean(metrics, axis=0))\n",
    "    print('Std for accuracy: ', np.std(metrics, axis=0))"
   ]
  },
  {
   "cell_type": "code",
   "execution_count": 19,
   "metadata": {
    "scrolled": true
   },
   "outputs": [
    {
     "name": "stdout",
     "output_type": "stream",
     "text": [
      "0.1\t 0.5487354212610607\n",
      "0.2\t 0.5487353512912302\n",
      "0.5\t 0.5676036956385145\n",
      "1\t 0.5675221458011734\n",
      "2\t 0.5675294576484512\n",
      "5\t 0.5784841442067009\n",
      "5.5\t 0.5769118171626758\n",
      "6\t 0.5753468719357587\n",
      "10\t 0.5737448776836404\n",
      "20\t 0.5690500420028891\n",
      "50\t 0.5674850967759721\n"
     ]
    }
   ],
   "source": [
    "for i in range(len(c_list)):\n",
    "    print(str(c_list[i]) + '\\t ' + str(mean_accuracy[i]))"
   ]
  },
  {
   "cell_type": "code",
   "execution_count": 20,
   "metadata": {},
   "outputs": [
    {
     "data": {
      "text/plain": [
       "[<matplotlib.lines.Line2D at 0x22042181898>]"
      ]
     },
     "execution_count": 20,
     "metadata": {},
     "output_type": "execute_result"
    },
    {
     "data": {
      "image/png": "[encoded data removed]",
      "text/plain": [
       "<Figure size 432x288 with 1 Axes>"
      ]
     },
     "metadata": {
      "needs_background": "light"
     },
     "output_type": "display_data"
    }
   ],
   "source": [
    "plt.plot(c_list, mean_accuracy)"
   ]
  },
  {
   "cell_type": "code",
   "execution_count": 21,
   "metadata": {},
   "outputs": [
    {
     "name": "stdout",
     "output_type": "stream",
     "text": [
      "               precision    recall  f1-score   support\n",
      "\n",
      "       tauniv       0.52      0.12      0.19        95\n",
      "õigeksmõistev       0.56      0.91      0.69       116\n",
      "\n",
      "    micro avg       0.55      0.55      0.55       211\n",
      "    macro avg       0.54      0.51      0.44       211\n",
      " weighted avg       0.54      0.55      0.47       211\n",
      "\n",
      "Logistilise regressiooni mudeli ennustustäpsus: 55.45%\n",
      "Normaliseerimata veamaatriks\n"
     ]
    },
    {
     "data": {
      "image/png": "[encoded data removed]",
      "text/plain": [
       "<Figure size 432x288 with 2 Axes>"
      ]
     },
     "metadata": {
      "needs_background": "light"
     },
     "output_type": "display_data"
    }
   ],
   "source": [
    "# Vektoriseerimine ja TF-IDF rakendamine\n",
    "from sklearn.linear_model import LogisticRegression\n",
    "from sklearn.metrics import classification_report\n",
    "\n",
    "pipe = Pipeline([('vect', CountVectorizer()),#tokenizer = lemmatize_with_estnltk, stop_words = stopsõnad_uus)),\n",
    "                 ('tfidf', TfidfTransformer()),\n",
    "                 ('model', LogisticRegression())])\n",
    "\n",
    "# Mudeli sobitamine\n",
    "model = pipe.fit(X_train, y_train)\n",
    "\n",
    "# Prognoosimine\n",
    "prediction = model.predict(X_test)\n",
    "print(classification_report(y_test, prediction))\n",
    "print(\"Logistilise regressiooni mudeli ennustustäpsus: {}%\".format(round(accuracy_score(y_test, prediction)*100,2)))\n",
    "\n",
    "cm = confusion_matrix(y_test, prediction)\n",
    "\n",
    "plot_confusion_matrix(cm, classes=['Tauniv', 'Õigeksmõistev'])"
   ]
  }
 ],
 "metadata": {
  "kernelspec": {
   "display_name": "Python 3",
   "language": "python",
   "name": "python3"
  },
  "language_info": {
   "codemirror_mode": {
    "name": "ipython",
    "version": 3
   },
   "file_extension": ".py",
   "mimetype": "text/x-python",
   "name": "python",
   "nbconvert_exporter": "python",
   "pygments_lexer": "ipython3",
   "version": "3.6.10"
  }
 },
 "nbformat": 4,
 "nbformat_minor": 4
}
