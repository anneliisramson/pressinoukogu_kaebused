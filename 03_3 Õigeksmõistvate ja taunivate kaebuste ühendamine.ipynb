{
 "cells": [
  {
   "cell_type": "markdown",
   "metadata": {},
   "source": [
    "# 03_3 Õigeksmõistvate ja taunivate kaebuste ühendamine"
   ]
  },
  {
   "cell_type": "code",
   "execution_count": 1,
   "metadata": {},
   "outputs": [],
   "source": [
    "import pandas as pd"
   ]
  },
  {
   "cell_type": "code",
   "execution_count": 10,
   "metadata": {},
   "outputs": [],
   "source": [
    "data_taunivad = pd.read_csv('toofailid/DATA_taunivad_LINKIDEGA.csv')\n",
    "data_oigeks = pd.read_csv('toofailid/DATA_oigeks_LINKIDEGA.csv')"
   ]
  },
  {
   "cell_type": "code",
   "execution_count": 25,
   "metadata": {},
   "outputs": [],
   "source": [
    "data = pd.concat([data_taunivad, data_oigeks]).sort_values(by=['#'])"
   ]
  },
  {
   "cell_type": "code",
   "execution_count": 32,
   "metadata": {},
   "outputs": [],
   "source": [
    "data.to_csv('toofailid/DATA_LINKIDEGA.csv',index=False)\n",
    "read_file = pd.read_csv (r'toofailid/DATA_LINKIDEGA.csv')\n",
    "read_file.to_excel (r'toofailid/DATA_LINKIDEGA.xlsx', index = None, header=True)"
   ]
  }
 ],
 "metadata": {
  "kernelspec": {
   "display_name": "Python 3",
   "language": "python",
   "name": "python3"
  },
  "language_info": {
   "codemirror_mode": {
    "name": "ipython",
    "version": 3
   },
   "file_extension": ".py",
   "mimetype": "text/x-python",
   "name": "python",
   "nbconvert_exporter": "python",
   "pygments_lexer": "ipython3",
   "version": "3.6.10"
  }
 },
 "nbformat": 4,
 "nbformat_minor": 4
}
