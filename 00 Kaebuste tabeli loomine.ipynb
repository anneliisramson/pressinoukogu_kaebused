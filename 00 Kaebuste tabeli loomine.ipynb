{
 "cells": [
  {
   "cell_type": "markdown",
   "metadata": {},
   "source": [
    "# 00 Pressinõukogule esitatud kaebuste kogumine lehelt https://meedialiit.ee/kaebused/"
   ]
  },
  {
   "cell_type": "code",
   "execution_count": 1,
   "metadata": {},
   "outputs": [],
   "source": [
    "import csv\n",
    "lingid= []\n",
    "with open('kaebuste_lingid.csv', 'r', encoding = 'utf-8') as f:\n",
    "    reader = csv.reader(f)\n",
    "    for line in reader:\n",
    "        if line != []:\n",
    "            lingid.append(line[0])"
   ]
  },
  {
   "cell_type": "code",
   "execution_count": 4,
   "metadata": {},
   "outputs": [
    {
     "name": "stderr",
     "output_type": "stream",
     "text": [
      "\r",
      "  0%|                                                                                           | 0/21 [00:00<?, ?it/s]"
     ]
    },
    {
     "name": "stdout",
     "output_type": "stream",
     "text": [
      "Exception is : Failed to parse: ﻿link ﻿link\n"
     ]
    },
    {
     "name": "stderr",
     "output_type": "stream",
     "text": [
      "100%|██████████████████████████████████████████████████████████████████████████████████| 21/21 [00:11<00:00,  1.77it/s]\n"
     ]
    }
   ],
   "source": [
    "import requests\n",
    "import pandas as pd\n",
    "from tqdm import tqdm\n",
    "from bs4 import BeautifulSoup\n",
    "\n",
    "headers = requests.utils.default_headers()\n",
    "headers.update(\n",
    "  { 'User-Agent': 'my crawler (anneliis@ut.ee) / on studying purpose', }\n",
    ")\n",
    "kaebused = pd.DataFrame({'#' : [], 'Kaebaja': [],'Väljaanne' : [], 'Kaebuse sisu' : [], 'Lahend' : [], 'Otsuse sisu': []})\n",
    "\n",
    "for url in tqdm(lingid):\n",
    "    try:\n",
    "        data = [] \n",
    "\n",
    "        page = requests.get(url)\n",
    "\n",
    "        soup = BeautifulSoup(page.content, \"html.parser\")\n",
    " \n",
    "        HTML_data = soup.find_all(\"table\")[0].find_all(\"tr\")[2:] \n",
    "\n",
    "        for element in HTML_data: \n",
    "            sub_data = [] \n",
    "            for sub_element in element: \n",
    "                try: \n",
    "                    sub_data.append(sub_element.get_text()) \n",
    "                except: \n",
    "                    continue\n",
    "            data.append(sub_data)\n",
    "      \n",
    "        df= pd.DataFrame(data, columns = ['#', 'Kaebaja','Väljaanne', 'Kaebuse sisu', 'Lahend', 'Otsuse sisu'])\n",
    "        kaebused = kaebused.append(df)\n",
    "        \n",
    "    except Exception as e:\n",
    "        print(\"Exception is :\", e, url)   "
   ]
  },
  {
   "cell_type": "code",
   "execution_count": 5,
   "metadata": {},
   "outputs": [],
   "source": [
    "kaebused.to_csv('toofailid/kaebused_2002_2021.csv',index=False)\n",
    "read_file = pd.read_csv (r'toofailid/kaebused_2002_2021.csv')\n",
    "read_file.to_excel (r'toofailid/kaebused_2002_2021.xlsx', index = None, header=True)"
   ]
  }
 ],
 "metadata": {
  "kernelspec": {
   "display_name": "Python 3",
   "language": "python",
   "name": "python3"
  },
  "language_info": {
   "codemirror_mode": {
    "name": "ipython",
    "version": 3
   },
   "file_extension": ".py",
   "mimetype": "text/x-python",
   "name": "python",
   "nbconvert_exporter": "python",
   "pygments_lexer": "ipython3",
   "version": "3.6.10"
  }
 },
 "nbformat": 4,
 "nbformat_minor": 4
}
