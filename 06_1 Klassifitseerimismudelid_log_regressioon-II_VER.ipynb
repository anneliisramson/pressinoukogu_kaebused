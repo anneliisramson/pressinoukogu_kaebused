{
 "cells": [
  {
   "cell_type": "markdown",
   "metadata": {},
   "source": [
    "# 06_1 Klassifitseerimismudelid - logistiline regressioon_II_VER"
   ]
  },
  {
   "cell_type": "code",
   "execution_count": 1,
   "metadata": {},
   "outputs": [],
   "source": [
    "import pandas as pd\n",
    "import matplotlib.pyplot as plt"
   ]
  },
  {
   "cell_type": "code",
   "execution_count": 2,
   "metadata": {
    "scrolled": false
   },
   "outputs": [
    {
     "name": "stdout",
     "output_type": "stream",
     "text": [
      "(636, 55)\n"
     ]
    }
   ],
   "source": [
    "data = pd.read_excel('toofailid/DATA_TEKSTIKOGU_puhastatud.xlsx', engine='openpyxl')\n",
    "print(data.shape)"
   ]
  },
  {
   "cell_type": "code",
   "execution_count": 3,
   "metadata": {},
   "outputs": [
    {
     "data": {
      "text/plain": [
       "õigeksmõistev    350\n",
       "tauniv           286\n",
       "Name: Lahendi liik, dtype: int64"
      ]
     },
     "execution_count": 3,
     "metadata": {},
     "output_type": "execute_result"
    }
   ],
   "source": [
    "data['Lahendi liik'].value_counts()"
   ]
  },
  {
   "cell_type": "code",
   "execution_count": 4,
   "metadata": {},
   "outputs": [],
   "source": [
    "# Andmestiku segamine\n",
    "#from sklearn.utils import shuffle\n",
    "#data = shuffle(data)\n",
    "#data = data.reset_index(drop=True)"
   ]
  },
  {
   "cell_type": "code",
   "execution_count": 5,
   "metadata": {},
   "outputs": [],
   "source": [
    "# Ebavajaliku info  (aeg, pealkiri) eemaldamine\n",
    "#data.drop([\"date\"],axis=1,inplace=True)\n",
    "#data.drop([\"title\"],axis=1,inplace=True)\n",
    "#data.drop([\"subject\"],axis=1,inplace=True)\n",
    "#data.drop([\"link\"],axis=1,inplace=True)"
   ]
  },
  {
   "cell_type": "code",
   "execution_count": 6,
   "metadata": {},
   "outputs": [],
   "source": [
    "#tekst_puhas = data['text_puhas'].to_list()\n",
    "#tekst_tokenize = data['text_token'].to_list()\n",
    "#tekst_lemmatize = data['text_lemmatize'].to_list()\n",
    "#label = data['Lahendi liik'].to_list()"
   ]
  },
  {
   "cell_type": "markdown",
   "metadata": {},
   "source": [
    "Stoppsõnadena on kasutusel sidesõnad ja sidesõnad koos asesõnadega."
   ]
  },
  {
   "cell_type": "code",
   "execution_count": 7,
   "metadata": {},
   "outputs": [],
   "source": [
    "#https://et.wikipedia.org/wiki/Sides%C3%B5na\n",
    "#https://www.taskutark.ee/m/asesonad/\n",
    "#sidesõnad\n",
    "stopsõnad = ['ja', 'ning', 'ega', 'ehk', 'või', 'aga', 'kuid', 'ent', 'vaid', 'et', 'kui', 'kuna', 'sest', 'kuni', 'kuigi', \n",
    "             'ehkki', 'nagu', 'saati', 'elik', 'justkui', 'otsekui', 'seni']\n",
    "#sidesõnad ja asesõnad\n",
    "stopsõnad_uus = ['ja', 'ning', 'ega', 'ehk', 'või', 'aga', 'kuid', 'ent', 'vaid', 'et', 'kui', 'kuna', 'sest', 'kuni', 'kuigi', \n",
    "             'ehkki', 'nagu', 'saati', 'elik', 'justkui', 'otsekui', 'seni', 'siis', 'ka', 'nii', 'kas',\n",
    "             'mina', 'ma', 'meie', 'me', 'sina', 'sa', 'teie', 'te', 'tema', 'ta', 'nemad', 'nad',\n",
    "             'enese', 'enda', 'iseenese', 'iseenda', 'oma', 'üksteise', 'teineteise',\n",
    "             'see', 'too', 'sama', 'seesama', 'toosama', 'teine', 'muu',\n",
    "             'niisugune', 'samasugune', 'niisamasugune', 'selline', 'seesugune', 'säärane','säherdune', \n",
    "             'taoline', 'selletaoline', 'kes', 'mis', 'kumb', 'missugune', 'milline', 'misuke', 'mitu', 'mitmes', 'mitmendik',\n",
    "             'ise', 'oma', 'iga', 'igaüks', 'igamees', 'kõik', 'mõlemad', 'kumbki', 'emb-kumb', 'kogu', 'terve',\n",
    "             'keegi', 'miski', 'mingi', 'mingisugune', 'miskisugune', 'ükski', 'mitu', 'mitmes',\n",
    "             'mõni', 'mõningane', 'paljud', 'üks', 'teine', 'oma', 'enese', 'enda', 'omaenese', 'omaenda', 'iseoma', \n",
    "             'iseenese', 'iseenda', 'emb', 'mõlema', 'palju', '-']"
   ]
  },
  {
   "cell_type": "markdown",
   "metadata": {},
   "source": [
    "# Veamaatriks, segadusmaatriks (confusion matrix)"
   ]
  },
  {
   "cell_type": "code",
   "execution_count": 8,
   "metadata": {},
   "outputs": [],
   "source": [
    "# Veamaatriks (plot the confusion matrix)\n",
    "#https://scikit-learn.org/stable/auto_examples/model_selection/plot_confusion_matrix.html)\n",
    "from sklearn import metrics\n",
    "import itertools\n",
    "\n",
    "def plot_confusion_matrix(cm, classes,\n",
    "                          normalize=False,\n",
    "                          title='Veamaatriks',\n",
    "                          cmap=plt.cm.Blues):\n",
    "    \n",
    "    plt.imshow(cm, interpolation='nearest', cmap=cmap)\n",
    "    plt.title(title)\n",
    "    plt.colorbar()\n",
    "    tick_marks = np.arange(len(classes))\n",
    "    plt.xticks(tick_marks, classes, rotation=45)\n",
    "    plt.yticks(tick_marks, classes)\n",
    "\n",
    "    if normalize:\n",
    "        cm = cm.astype('float') / cm.sum(axis=1)[:, np.newaxis]\n",
    "        print(\"Normaliseeritud veamaatriks\")\n",
    "    else:\n",
    "        print('Normaliseerimata veamaatriks')\n",
    "\n",
    "    thresh = cm.max() / 2.\n",
    "    for i, j in itertools.product(range(cm.shape[0]), range(cm.shape[1])):\n",
    "        plt.text(j, i, cm[i, j],\n",
    "                 horizontalalignment=\"center\",\n",
    "                 color=\"white\" if cm[i, j] > thresh else \"black\")\n",
    "\n",
    "    plt.tight_layout()\n",
    "    \n",
    "    plt.ylabel('True label/Tõeline märgend')\n",
    "    plt.xlabel('Predicted label/Prognoositud märgend')"
   ]
  },
  {
   "cell_type": "markdown",
   "metadata": {},
   "source": [
    "### Logistiline regressioon (Logistic regression)"
   ]
  },
  {
   "cell_type": "code",
   "execution_count": 9,
   "metadata": {},
   "outputs": [
    {
     "data": {
      "text/plain": [
       "Index(['#', 'title', 'text', 'Kaebuse kuupäev', 'Kaebuse aasta', 'Väljaanne',\n",
       "       'Väljaande nimi1', 'Lingid', 'Lingid1', 'Dea_digar', 'Kaebuse sisu',\n",
       "       'Lahendi tulemus1', 'Lahendi tulemus2', 'Lahendi kuupäev',\n",
       "       'Otsuse sisu', 'Otsuse liik', 'Lahendi liik', 'Väljaande nimi',\n",
       "       'Väljaande liik', 'Koodeks', '1.2', '1.4', '1.5', '1.6', '2.3', '3.1',\n",
       "       '3.2', '3.3', '3.5', '3.6', '3.7', '4.1', '4.2', '4.3', '4.4', '4.6',\n",
       "       '4.7', '4.8', '4.9', '4.10', '4.11', '4.12', '5.1', '5.2', '5.3', '6.1',\n",
       "       'Koodeksipunkte', 'text_puhas', 'text_token', 'text_lemmatize', 'T1_4',\n",
       "       'T4_1', 'T4_11', 'T_muu', 'ÕM'],\n",
       "      dtype='object')"
      ]
     },
     "execution_count": 9,
     "metadata": {},
     "output_type": "execute_result"
    }
   ],
   "source": [
    "data.columns"
   ]
  },
  {
   "cell_type": "code",
   "execution_count": 10,
   "metadata": {},
   "outputs": [],
   "source": [
    "X, y = data['text_token'], data['Lahendi liik'] #sõnestatud tekst\n",
    "#X, y = data['text_lemmatize'], data['Lahendi liik'] #lemmatiseeritud tekst"
   ]
  },
  {
   "cell_type": "code",
   "execution_count": 11,
   "metadata": {},
   "outputs": [
    {
     "data": {
      "text/plain": [
       "0      viimastel päevadel valitsenud külmalaine on ri...\n",
       "1      tuntud ühiskonnategelane räägib et mõni piiran...\n",
       "2      tahkuna uue elektrituuliku mittepüstitamine lä...\n",
       "3      viiskümmend aastat tagasi sai tiit leito oma k...\n",
       "4      tarbija esitas ttja-le kaebuse veskioja 1 oü n...\n",
       "                             ...                        \n",
       "631    kolm aastat pärast mait metsamaa surma on teda...\n",
       "632    neeme järvi ligi kaks aastat tagasi maestro ne...\n",
       "633    keskkonnainspektsiooni menetlus karepal selja ...\n",
       "634    eesti kaubandusettevõtted üritavad raha kokku ...\n",
       "635    võltsjuustude müügiga seostatavat estover-kaub...\n",
       "Name: text_token, Length: 636, dtype: object"
      ]
     },
     "execution_count": 11,
     "metadata": {},
     "output_type": "execute_result"
    }
   ],
   "source": [
    "X"
   ]
  },
  {
   "cell_type": "code",
   "execution_count": 12,
   "metadata": {},
   "outputs": [],
   "source": [
    "# Andmete tükeldamine treenimisandmestikuks ja testandmestikuks\n",
    "from sklearn.model_selection import train_test_split\n",
    "X_train,X_test,y_train,y_test = train_test_split(X, y, test_size=0.2, random_state=42, stratify=y)"
   ]
  },
  {
   "cell_type": "code",
   "execution_count": 13,
   "metadata": {},
   "outputs": [
    {
     "name": "stdout",
     "output_type": "stream",
     "text": [
      "(508,) (128,) (508,) (128,)\n"
     ]
    }
   ],
   "source": [
    "print(X_train.shape, X_test.shape, y_train.shape, y_test.shape)"
   ]
  },
  {
   "cell_type": "code",
   "execution_count": 14,
   "metadata": {},
   "outputs": [
    {
     "data": {
      "text/plain": [
       "31     kohus arutas põhjalikult kas fekaalidega määri...\n",
       "427    kliendid leiavad et swedbank peaks võlgu tagas...\n",
       "610    poliitikud peavad kahetsusväärseks olukorda ku...\n",
       "499    selle loo ilmumise järel tuleb postimehel tõen...\n",
       "105    patsient läheb ilukliinikusse suurte ootustega...\n",
       "                             ...                        \n",
       "198    kui edaspidi peaks keegi huvi tundma kust ma p...\n",
       "93     koos kolme sõbrannaga möödunud neljapäeva õhtu...\n",
       "54     metsatöösturid ja lageraiete vajalikkusest jut...\n",
       "356    tundub et keskerakonnale on saanud iseenesestm...\n",
       "489    kohtulugu • eile tartu ringkonnakohtus toimunu...\n",
       "Name: text_token, Length: 508, dtype: object"
      ]
     },
     "execution_count": 14,
     "metadata": {},
     "output_type": "execute_result"
    }
   ],
   "source": [
    "X_train"
   ]
  },
  {
   "cell_type": "code",
   "execution_count": 15,
   "metadata": {},
   "outputs": [
    {
     "name": "stdout",
     "output_type": "stream",
     "text": [
      "[239 241 242 245 247 248 256 261 262 263 264 265 266 267 268 269 270 271\n",
      " 272 273 274 275 276 277 278 279 280 281 282 283 284 285 286 287 288 289\n",
      " 290 291 292 293 294 295 296 297 298 299 300 301 302 303 304 305 306 307\n",
      " 308 309 310 311 312 313 314 315 316 317 318 319 320 321 322 323 324 325\n",
      " 326 327 328 329 330 331 332 333 334 335 336 337 338 339 340 341 342 343\n",
      " 344 345 346 347 348 349 350 351 352 353 354 355 356 357 358 359 360 361\n",
      " 362 363 364 365 366 367 368 369 370 371 372 373 374 375 376 377 378 379\n",
      " 380 381 382 383 384 385 386 387 388 389 390 391 392 393 394 395 396 397\n",
      " 398 399 400 401 402 403 404 405 406 407 408 409 410 411 412 413 414 415\n",
      " 416 417 418 419 420 421 422 423 424 425 426 427 428 429 430 431 432 433\n",
      " 434 435 436 437 438 439 440 441 442 443 444 445 446 447 448 449 450 451\n",
      " 452 453 454 455 456 457 458 459 460 461 462 463 464 465 466 467 468 469\n",
      " 470 471 472 473 474 475 476 477 478 479 480 481 482 483 484 485 486 487\n",
      " 488 489 490 491 492 493 494 495 496 497 498 499 500 501 502 503 504 505\n",
      " 506 507]\n",
      "361    kinnisvaraportaali kv.ee on ilmunud kuulutus k...\n",
      "290    bruno o ’ ya oli üks väheseid filmi- ja muusik...\n",
      "74     •• kuna riigimetsas valitseb linnurahu saab pr...\n",
      "242    eile otsustas vändra valla volikogu et ei võta...\n",
      "516    eriti paistab selle poolest silma põllumajandu...\n",
      "                             ...                        \n",
      "198    kui edaspidi peaks keegi huvi tundma kust ma p...\n",
      "93     koos kolme sõbrannaga möödunud neljapäeva õhtu...\n",
      "54     metsatöösturid ja lageraiete vajalikkusest jut...\n",
      "356    tundub et keskerakonnale on saanud iseenesestm...\n",
      "489    kohtulugu • eile tartu ringkonnakohtus toimunu...\n",
      "Name: text_token, Length: 254, dtype: object\n",
      "[  0   1   2   3   4   5   6   7   8   9  10  11  12  13  14  15  16  17\n",
      "  18  19  20  21  22  23  24  25  26  27  28  29  30  31  32  33  34  35\n",
      "  36  37  38  39  40  41  42  43  44  45  46  47  48  49  50  51  52  53\n",
      "  54  55  56  57  58  59  60  61  62  63  64  65  66  67  68  69  70  71\n",
      "  72  73  74  75  76  77  78  79  80  81  82  83  84  85  86  87  88  89\n",
      "  90  91  92  93  94  95  96  97  98  99 100 101 102 103 104 105 106 107\n",
      " 108 109 110 111 112 113 114 115 116 117 118 119 120 121 122 123 124 125\n",
      " 126 127 128 129 130 131 132 133 134 135 136 137 138 139 140 141 142 143\n",
      " 144 145 146 147 148 149 150 151 152 153 154 155 156 157 158 159 160 161\n",
      " 162 163 164 165 166 167 168 169 170 171 172 173 174 175 176 177 178 179\n",
      " 180 181 182 183 184 185 186 187 188 189 190 191 192 193 194 195 196 197\n",
      " 198 199 200 201 202 203 204 205 206 207 208 209 210 211 212 213 214 215\n",
      " 216 217 218 219 220 221 222 223 224 225 226 227 228 229 230 231 232 233\n",
      " 234 235 236 237 238 240 243 244 246 249 250 251 252 253 254 255 257 258\n",
      " 259 260]\n",
      "31     kohus arutas põhjalikult kas fekaalidega määri...\n",
      "427    kliendid leiavad et swedbank peaks võlgu tagas...\n",
      "610    poliitikud peavad kahetsusväärseks olukorda ku...\n",
      "499    selle loo ilmumise järel tuleb postimehel tõen...\n",
      "105    patsient läheb ilukliinikusse suurte ootustega...\n",
      "                             ...                        \n",
      "282    merekultuuri aastal merekaldale magistraali eh...\n",
      "609    pärastlõunal kella 16.40 paiku kihutas 18aasta...\n",
      "386    sotsiaalministeerium ei lase end häirida teadl...\n",
      "20     eile teatas carmen pritson intervjuus naistele...\n",
      "409    teisipäeval ilmus delfi esiküljel põhja-tallin...\n",
      "Name: text_token, Length: 254, dtype: object\n",
      "[  0   1   2   3   4   5   6   7   8   9  10  11  12  13  14  15  16  17\n",
      "  18  19  20  21  22  23  24  25  26  27  28  29  30  31  32  33  34  35\n",
      "  36  37  38  39  40  41  42  43  44  45  46  47  48  49  50  51  52  53\n",
      "  54  55  56  57  58  59  60  61  62  63  64  65  66  67  68  69  70  71\n",
      "  72  73  74  75  76  77  78  79  80  81  82  83  84  85  86  87  88  89\n",
      "  90  91  92  93  94  95  96  97  98  99 100 101 102 103 104 105 106 107\n",
      " 108 109 110 111 112 113 114 115 116 117 118 119 120 121 122 123 124 125\n",
      " 126 127 128 129 130 131 132 133 134 135 136 137 138 139 140 141 142 143\n",
      " 144 145 146 147 148 149 150 151 152 153 154 155 156 157 158 159 160 161\n",
      " 162 163 164 165 166 167 168 169 170 171 172 173 174 175 176 177 178 179\n",
      " 180 181 182 183 184 185 186 187 188 189 190 191 192 193 194 195 196 197\n",
      " 198 199 200 201 202 203 204 205 206 207 208 209 210 211 212 213 214 215\n",
      " 216 217 218 219 220 221 222 223 224 225 226 227 228 229 230 231 232 233\n",
      " 234 235 236 237 238 240 243 244 246 249 250 251 252 253 254 255 257 258\n",
      " 259 260]\n",
      "31     kohus arutas põhjalikult kas fekaalidega määri...\n",
      "427    kliendid leiavad et swedbank peaks võlgu tagas...\n",
      "610    poliitikud peavad kahetsusväärseks olukorda ku...\n",
      "499    selle loo ilmumise järel tuleb postimehel tõen...\n",
      "105    patsient läheb ilukliinikusse suurte ootustega...\n",
      "                             ...                        \n",
      "282    merekultuuri aastal merekaldale magistraali eh...\n",
      "609    pärastlõunal kella 16.40 paiku kihutas 18aasta...\n",
      "386    sotsiaalministeerium ei lase end häirida teadl...\n",
      "20     eile teatas carmen pritson intervjuus naistele...\n",
      "409    teisipäeval ilmus delfi esiküljel põhja-tallin...\n",
      "Name: text_token, Length: 254, dtype: object\n",
      "[239 241 242 245 247 248 256 261 262 263 264 265 266 267 268 269 270 271\n",
      " 272 273 274 275 276 277 278 279 280 281 282 283 284 285 286 287 288 289\n",
      " 290 291 292 293 294 295 296 297 298 299 300 301 302 303 304 305 306 307\n",
      " 308 309 310 311 312 313 314 315 316 317 318 319 320 321 322 323 324 325\n",
      " 326 327 328 329 330 331 332 333 334 335 336 337 338 339 340 341 342 343\n",
      " 344 345 346 347 348 349 350 351 352 353 354 355 356 357 358 359 360 361\n",
      " 362 363 364 365 366 367 368 369 370 371 372 373 374 375 376 377 378 379\n",
      " 380 381 382 383 384 385 386 387 388 389 390 391 392 393 394 395 396 397\n",
      " 398 399 400 401 402 403 404 405 406 407 408 409 410 411 412 413 414 415\n",
      " 416 417 418 419 420 421 422 423 424 425 426 427 428 429 430 431 432 433\n",
      " 434 435 436 437 438 439 440 441 442 443 444 445 446 447 448 449 450 451\n",
      " 452 453 454 455 456 457 458 459 460 461 462 463 464 465 466 467 468 469\n",
      " 470 471 472 473 474 475 476 477 478 479 480 481 482 483 484 485 486 487\n",
      " 488 489 490 491 492 493 494 495 496 497 498 499 500 501 502 503 504 505\n",
      " 506 507]\n",
      "361    kinnisvaraportaali kv.ee on ilmunud kuulutus k...\n",
      "290    bruno o ’ ya oli üks väheseid filmi- ja muusik...\n",
      "74     •• kuna riigimetsas valitseb linnurahu saab pr...\n",
      "242    eile otsustas vändra valla volikogu et ei võta...\n",
      "516    eriti paistab selle poolest silma põllumajandu...\n",
      "                             ...                        \n",
      "198    kui edaspidi peaks keegi huvi tundma kust ma p...\n",
      "93     koos kolme sõbrannaga möödunud neljapäeva õhtu...\n",
      "54     metsatöösturid ja lageraiete vajalikkusest jut...\n",
      "356    tundub et keskerakonnale on saanud iseenesestm...\n",
      "489    kohtulugu • eile tartu ringkonnakohtus toimunu...\n",
      "Name: text_token, Length: 254, dtype: object\n"
     ]
    }
   ],
   "source": [
    "# Read 15-17 ei saa aru, mida teevad. Minu meelest ei tööta õigesti.\n",
    "\n",
    "from sklearn.model_selection import StratifiedKFold\n",
    "from sklearn.pipeline import Pipeline\n",
    "from sklearn.feature_extraction.text import CountVectorizer\n",
    "from sklearn.feature_extraction.text import TfidfTransformer\n",
    "from sklearn.linear_model import LogisticRegression\n",
    "from sklearn.metrics import classification_report\n",
    "from sklearn.metrics import classification_report, f1_score, accuracy_score, confusion_matrix\n",
    "import numpy as np\n",
    "import matplotlib.pyplot as plt\n",
    "\n",
    "\n",
    "skf =  StratifiedKFold(n_splits=2)\n",
    "for train_index, val_index in skf.split(X_train, y_train):\n",
    "    X_treen, X_val = X_train.iloc[train_index], X_train.iloc[val_index]\n",
    "    y_treen, y_val = y_train.iloc[train_index], y_train.iloc[val_index]\n",
    "    print(train_index)\n",
    "    print(X_treen)\n",
    "    print(val_index)\n",
    "    print(X_val)\n",
    "    "
   ]
  },
  {
   "cell_type": "code",
   "execution_count": 16,
   "metadata": {},
   "outputs": [
    {
     "name": "stdout",
     "output_type": "stream",
     "text": [
      "C väärtus: 0.1\n"
     ]
    },
    {
     "name": "stderr",
     "output_type": "stream",
     "text": [
      "C:\\Users\\annel\\anaconda3\\envs\\AL_keskkond\\lib\\site-packages\\sklearn\\linear_model\\logistic.py:436: FutureWarning: Default solver will be changed to 'lbfgs' in 0.22. Specify a solver to silence this warning.\n",
      "  FutureWarning)\n"
     ]
    },
    {
     "name": "stdout",
     "output_type": "stream",
     "text": [
      "               precision    recall  f1-score   support\n",
      "\n",
      "       tauniv      1.000     0.026     0.051        76\n",
      "õigeksmõistev      0.560     1.000     0.718        94\n",
      "\n",
      "    micro avg      0.565     0.565     0.565       170\n",
      "    macro avg      0.780     0.513     0.384       170\n",
      " weighted avg      0.756     0.565     0.420       170\n",
      "\n",
      "Confusion Matrix: [[ 2 74]\n",
      " [ 0 94]]\n",
      "               precision    recall  f1-score   support\n",
      "\n",
      "       tauniv      1.000     0.026     0.051        76\n",
      "õigeksmõistev      0.557     1.000     0.715        93\n",
      "\n",
      "    micro avg      0.562     0.562     0.562       169\n",
      "    macro avg      0.778     0.513     0.383       169\n",
      " weighted avg      0.756     0.562     0.417       169\n",
      "\n",
      "Confusion Matrix: [[ 2 74]\n",
      " [ 0 93]]\n",
      "               precision    recall  f1-score   support\n",
      "\n",
      "       tauniv      1.000     0.013     0.026        76\n",
      "õigeksmõistev      0.554     1.000     0.713        93\n",
      "\n",
      "    micro avg      0.556     0.556     0.556       169\n",
      "    macro avg      0.777     0.507     0.369       169\n",
      " weighted avg      0.754     0.556     0.404       169\n",
      "\n",
      "Confusion Matrix: [[ 1 75]\n",
      " [ 0 93]]\n",
      "Mean accuracy:  0.5610163592064045\n",
      "Std for accuracy:  0.003555524406025759\n",
      "C väärtus: 0.2\n"
     ]
    },
    {
     "name": "stderr",
     "output_type": "stream",
     "text": [
      "C:\\Users\\annel\\anaconda3\\envs\\AL_keskkond\\lib\\site-packages\\sklearn\\linear_model\\logistic.py:436: FutureWarning: Default solver will be changed to 'lbfgs' in 0.22. Specify a solver to silence this warning.\n",
      "  FutureWarning)\n"
     ]
    },
    {
     "name": "stdout",
     "output_type": "stream",
     "text": [
      "               precision    recall  f1-score   support\n",
      "\n",
      "       tauniv      0.750     0.079     0.143        76\n",
      "õigeksmõistev      0.568     0.979     0.719        94\n",
      "\n",
      "    micro avg      0.576     0.576     0.576       170\n",
      "    macro avg      0.659     0.529     0.431       170\n",
      " weighted avg      0.649     0.576     0.461       170\n",
      "\n",
      "Confusion Matrix: [[ 6 70]\n",
      " [ 2 92]]\n",
      "               precision    recall  f1-score   support\n",
      "\n",
      "       tauniv      1.000     0.079     0.146        76\n",
      "õigeksmõistev      0.571     1.000     0.727        93\n",
      "\n",
      "    micro avg      0.586     0.586     0.586       169\n",
      "    macro avg      0.785     0.539     0.436       169\n",
      " weighted avg      0.764     0.586     0.466       169\n",
      "\n",
      "Confusion Matrix: [[ 6 70]\n",
      " [ 0 93]]\n",
      "               precision    recall  f1-score   support\n",
      "\n",
      "       tauniv      1.000     0.092     0.169        76\n",
      "õigeksmõistev      0.574     1.000     0.729        93\n",
      "\n",
      "    micro avg      0.592     0.592     0.592       169\n",
      "    macro avg      0.787     0.546     0.449       169\n",
      " weighted avg      0.766     0.592     0.477       169\n",
      "\n",
      "Confusion Matrix: [[ 7 69]\n",
      " [ 0 93]]\n",
      "Mean accuracy:  0.5846617937115673\n",
      "Std for accuracy:  0.006275618444001773\n",
      "C väärtus: 0.5\n"
     ]
    },
    {
     "name": "stderr",
     "output_type": "stream",
     "text": [
      "C:\\Users\\annel\\anaconda3\\envs\\AL_keskkond\\lib\\site-packages\\sklearn\\linear_model\\logistic.py:436: FutureWarning: Default solver will be changed to 'lbfgs' in 0.22. Specify a solver to silence this warning.\n",
      "  FutureWarning)\n"
     ]
    },
    {
     "name": "stdout",
     "output_type": "stream",
     "text": [
      "               precision    recall  f1-score   support\n",
      "\n",
      "       tauniv      0.867     0.171     0.286        76\n",
      "õigeksmõistev      0.594     0.979     0.739        94\n",
      "\n",
      "    micro avg      0.618     0.618     0.618       170\n",
      "    macro avg      0.730     0.575     0.512       170\n",
      " weighted avg      0.716     0.618     0.536       170\n",
      "\n",
      "Confusion Matrix: [[13 63]\n",
      " [ 2 92]]\n",
      "               precision    recall  f1-score   support\n",
      "\n",
      "       tauniv      0.944     0.224     0.362        76\n",
      "õigeksmõistev      0.609     0.989     0.754        93\n",
      "\n",
      "    micro avg      0.645     0.645     0.645       169\n",
      "    macro avg      0.777     0.606     0.558       169\n",
      " weighted avg      0.760     0.645     0.578       169\n",
      "\n",
      "Confusion Matrix: [[17 59]\n",
      " [ 1 92]]\n",
      "               precision    recall  f1-score   support\n",
      "\n",
      "       tauniv      0.938     0.197     0.326        76\n",
      "õigeksmõistev      0.601     0.989     0.748        93\n",
      "\n",
      "    micro avg      0.633     0.633     0.633       169\n",
      "    macro avg      0.769     0.593     0.537       169\n",
      " weighted avg      0.752     0.633     0.558       169\n",
      "\n",
      "Confusion Matrix: [[15 61]\n",
      " [ 1 92]]\n",
      "Mean accuracy:  0.6319178558997564\n",
      "Std for accuracy:  0.011187925531801752\n",
      "C väärtus: 1\n"
     ]
    },
    {
     "name": "stderr",
     "output_type": "stream",
     "text": [
      "C:\\Users\\annel\\anaconda3\\envs\\AL_keskkond\\lib\\site-packages\\sklearn\\linear_model\\logistic.py:436: FutureWarning: Default solver will be changed to 'lbfgs' in 0.22. Specify a solver to silence this warning.\n",
      "  FutureWarning)\n"
     ]
    },
    {
     "name": "stdout",
     "output_type": "stream",
     "text": [
      "               precision    recall  f1-score   support\n",
      "\n",
      "       tauniv      0.739     0.224     0.343        76\n",
      "õigeksmõistev      0.599     0.936     0.730        94\n",
      "\n",
      "    micro avg      0.618     0.618     0.618       170\n",
      "    macro avg      0.669     0.580     0.537       170\n",
      " weighted avg      0.661     0.618     0.557       170\n",
      "\n",
      "Confusion Matrix: [[17 59]\n",
      " [ 6 88]]\n",
      "               precision    recall  f1-score   support\n",
      "\n",
      "       tauniv      0.771     0.355     0.486        76\n",
      "õigeksmõistev      0.634     0.914     0.749        93\n",
      "\n",
      "    micro avg      0.663     0.663     0.663       169\n",
      "    macro avg      0.703     0.635     0.618       169\n",
      " weighted avg      0.696     0.663     0.631       169\n",
      "\n",
      "Confusion Matrix: [[27 49]\n",
      " [ 8 85]]\n",
      "               precision    recall  f1-score   support\n",
      "\n",
      "       tauniv      0.815     0.289     0.427        76\n",
      "õigeksmõistev      0.620     0.946     0.749        93\n",
      "\n",
      "    micro avg      0.651     0.651     0.651       169\n",
      "    macro avg      0.717     0.618     0.588       169\n",
      " weighted avg      0.707     0.651     0.604       169\n",
      "\n",
      "Confusion Matrix: [[22 54]\n",
      " [ 5 88]]\n",
      "Mean accuracy:  0.6437521754263836\n",
      "Std for accuracy:  0.019080891214354335\n",
      "C väärtus: 2\n"
     ]
    },
    {
     "name": "stderr",
     "output_type": "stream",
     "text": [
      "C:\\Users\\annel\\anaconda3\\envs\\AL_keskkond\\lib\\site-packages\\sklearn\\linear_model\\logistic.py:436: FutureWarning: Default solver will be changed to 'lbfgs' in 0.22. Specify a solver to silence this warning.\n",
      "  FutureWarning)\n"
     ]
    },
    {
     "name": "stdout",
     "output_type": "stream",
     "text": [
      "               precision    recall  f1-score   support\n",
      "\n",
      "       tauniv      0.788     0.342     0.477        76\n",
      "õigeksmõistev      0.635     0.926     0.753        94\n",
      "\n",
      "    micro avg      0.665     0.665     0.665       170\n",
      "    macro avg      0.711     0.634     0.615       170\n",
      " weighted avg      0.703     0.665     0.630       170\n",
      "\n",
      "Confusion Matrix: [[26 50]\n",
      " [ 7 87]]\n",
      "               precision    recall  f1-score   support\n",
      "\n",
      "       tauniv      0.638     0.487     0.552        76\n",
      "õigeksmõistev      0.649     0.774     0.706        93\n",
      "\n",
      "    micro avg      0.645     0.645     0.645       169\n",
      "    macro avg      0.643     0.631     0.629       169\n",
      " weighted avg      0.644     0.645     0.637       169\n",
      "\n",
      "Confusion Matrix: [[37 39]\n",
      " [21 72]]\n",
      "               precision    recall  f1-score   support\n",
      "\n",
      "       tauniv      0.628     0.355     0.454        76\n",
      "õigeksmõistev      0.611     0.828     0.703        93\n",
      "\n",
      "    micro avg      0.615     0.615     0.615       169\n",
      "    macro avg      0.620     0.592     0.578       169\n",
      " weighted avg      0.619     0.615     0.591       169\n",
      "\n",
      "Confusion Matrix: [[27 49]\n",
      " [16 77]]\n",
      "Mean accuracy:  0.6416869706462466\n",
      "Std for accuracy:  0.020268737750931545\n",
      "C väärtus: 5\n"
     ]
    },
    {
     "name": "stderr",
     "output_type": "stream",
     "text": [
      "C:\\Users\\annel\\anaconda3\\envs\\AL_keskkond\\lib\\site-packages\\sklearn\\linear_model\\logistic.py:436: FutureWarning: Default solver will be changed to 'lbfgs' in 0.22. Specify a solver to silence this warning.\n",
      "  FutureWarning)\n"
     ]
    },
    {
     "name": "stdout",
     "output_type": "stream",
     "text": [
      "               precision    recall  f1-score   support\n",
      "\n",
      "       tauniv      0.636     0.368     0.467        76\n",
      "õigeksmõistev      0.619     0.830     0.709        94\n",
      "\n",
      "    micro avg      0.624     0.624     0.624       170\n",
      "    macro avg      0.628     0.599     0.588       170\n",
      " weighted avg      0.627     0.624     0.601       170\n",
      "\n",
      "Confusion Matrix: [[28 48]\n",
      " [16 78]]\n",
      "               precision    recall  f1-score   support\n",
      "\n",
      "       tauniv      0.609     0.513     0.557        76\n",
      "õigeksmõistev      0.648     0.731     0.687        93\n",
      "\n",
      "    micro avg      0.633     0.633     0.633       169\n",
      "    macro avg      0.628     0.622     0.622       169\n",
      " weighted avg      0.630     0.633     0.629       169\n",
      "\n",
      "Confusion Matrix: [[39 37]\n",
      " [25 68]]\n",
      "               precision    recall  f1-score   support\n",
      "\n",
      "       tauniv      0.604     0.382     0.468        76\n",
      "õigeksmõistev      0.612     0.796     0.692        93\n",
      "\n",
      "    micro avg      0.609     0.609     0.609       169\n",
      "    macro avg      0.608     0.589     0.580       169\n",
      " weighted avg      0.608     0.609     0.591       169\n",
      "\n",
      "Confusion Matrix: [[29 47]\n",
      " [19 74]]\n",
      "Mean accuracy:  0.6220443206868546\n",
      "Std for accuracy:  0.009719576132405688\n",
      "C väärtus: 5.5\n"
     ]
    },
    {
     "name": "stderr",
     "output_type": "stream",
     "text": [
      "C:\\Users\\annel\\anaconda3\\envs\\AL_keskkond\\lib\\site-packages\\sklearn\\linear_model\\logistic.py:436: FutureWarning: Default solver will be changed to 'lbfgs' in 0.22. Specify a solver to silence this warning.\n",
      "  FutureWarning)\n"
     ]
    },
    {
     "name": "stdout",
     "output_type": "stream",
     "text": [
      "               precision    recall  f1-score   support\n",
      "\n",
      "       tauniv      0.622     0.368     0.463        76\n",
      "õigeksmõistev      0.616     0.819     0.703        94\n",
      "\n",
      "    micro avg      0.618     0.618     0.618       170\n",
      "    macro avg      0.619     0.594     0.583       170\n",
      " weighted avg      0.619     0.618     0.596       170\n",
      "\n",
      "Confusion Matrix: [[28 48]\n",
      " [17 77]]\n",
      "               precision    recall  f1-score   support\n",
      "\n",
      "       tauniv      0.609     0.513     0.557        76\n",
      "õigeksmõistev      0.648     0.731     0.687        93\n",
      "\n",
      "    micro avg      0.633     0.633     0.633       169\n",
      "    macro avg      0.628     0.622     0.622       169\n",
      " weighted avg      0.630     0.633     0.629       169\n",
      "\n",
      "Confusion Matrix: [[39 37]\n",
      " [25 68]]\n",
      "               precision    recall  f1-score   support\n",
      "\n",
      "       tauniv      0.620     0.408     0.492        76\n",
      "õigeksmõistev      0.622     0.796     0.698        93\n",
      "\n",
      "    micro avg      0.621     0.621     0.621       169\n",
      "    macro avg      0.621     0.602     0.595       169\n",
      " weighted avg      0.621     0.621     0.605       169\n",
      "\n",
      "Confusion Matrix: [[31 45]\n",
      " [19 74]]\n",
      "Mean accuracy:  0.6240283095486715\n",
      "Std for accuracy:  0.006610751358074353\n",
      "C väärtus: 6\n"
     ]
    },
    {
     "name": "stderr",
     "output_type": "stream",
     "text": [
      "C:\\Users\\annel\\anaconda3\\envs\\AL_keskkond\\lib\\site-packages\\sklearn\\linear_model\\logistic.py:436: FutureWarning: Default solver will be changed to 'lbfgs' in 0.22. Specify a solver to silence this warning.\n",
      "  FutureWarning)\n"
     ]
    },
    {
     "name": "stdout",
     "output_type": "stream",
     "text": [
      "               precision    recall  f1-score   support\n",
      "\n",
      "       tauniv      0.622     0.368     0.463        76\n",
      "õigeksmõistev      0.616     0.819     0.703        94\n",
      "\n",
      "    micro avg      0.618     0.618     0.618       170\n",
      "    macro avg      0.619     0.594     0.583       170\n",
      " weighted avg      0.619     0.618     0.596       170\n",
      "\n",
      "Confusion Matrix: [[28 48]\n",
      " [17 77]]\n",
      "               precision    recall  f1-score   support\n",
      "\n",
      "       tauniv      0.600     0.513     0.553        76\n",
      "õigeksmõistev      0.644     0.720     0.680        93\n",
      "\n",
      "    micro avg      0.627     0.627     0.627       169\n",
      "    macro avg      0.622     0.617     0.617       169\n",
      " weighted avg      0.624     0.627     0.623       169\n",
      "\n",
      "Confusion Matrix: [[39 37]\n",
      " [26 67]]\n",
      "               precision    recall  f1-score   support\n",
      "\n",
      "       tauniv      0.585     0.408     0.481        76\n",
      "õigeksmõistev      0.612     0.763     0.679        93\n",
      "\n",
      "    micro avg      0.604     0.604     0.604       169\n",
      "    macro avg      0.598     0.586     0.580       169\n",
      " weighted avg      0.600     0.604     0.590       169\n",
      "\n",
      "Confusion Matrix: [[31 45]\n",
      " [22 71]]\n",
      "Mean accuracy:  0.6161387631975868\n",
      "Std for accuracy:  0.0097213625735538\n",
      "C väärtus: 10\n"
     ]
    },
    {
     "name": "stderr",
     "output_type": "stream",
     "text": [
      "C:\\Users\\annel\\anaconda3\\envs\\AL_keskkond\\lib\\site-packages\\sklearn\\linear_model\\logistic.py:436: FutureWarning: Default solver will be changed to 'lbfgs' in 0.22. Specify a solver to silence this warning.\n",
      "  FutureWarning)\n"
     ]
    },
    {
     "name": "stdout",
     "output_type": "stream",
     "text": [
      "               precision    recall  f1-score   support\n",
      "\n",
      "       tauniv      0.592     0.382     0.464        76\n",
      "õigeksmõistev      0.612     0.787     0.688        94\n",
      "\n",
      "    micro avg      0.606     0.606     0.606       170\n",
      "    macro avg      0.602     0.584     0.576       170\n",
      " weighted avg      0.603     0.606     0.588       170\n",
      "\n",
      "Confusion Matrix: [[29 47]\n",
      " [20 74]]\n",
      "               precision    recall  f1-score   support\n",
      "\n",
      "       tauniv      0.606     0.526     0.563        76\n",
      "õigeksmõistev      0.650     0.720     0.684        93\n",
      "\n",
      "    micro avg      0.633     0.633     0.633       169\n",
      "    macro avg      0.628     0.623     0.624       169\n",
      " weighted avg      0.631     0.633     0.630       169\n",
      "\n",
      "Confusion Matrix: [[40 36]\n",
      " [26 67]]\n",
      "               precision    recall  f1-score   support\n",
      "\n",
      "       tauniv      0.593     0.421     0.492        76\n",
      "õigeksmõistev      0.617     0.763     0.683        93\n",
      "\n",
      "    micro avg      0.609     0.609     0.609       169\n",
      "    macro avg      0.605     0.592     0.588       169\n",
      " weighted avg      0.606     0.609     0.597       169\n",
      "\n",
      "Confusion Matrix: [[32 44]\n",
      " [22 71]]\n",
      "Mean accuracy:  0.6161619677456781\n",
      "Std for accuracy:  0.012091428894193566\n",
      "C väärtus: 20\n"
     ]
    },
    {
     "name": "stderr",
     "output_type": "stream",
     "text": [
      "C:\\Users\\annel\\anaconda3\\envs\\AL_keskkond\\lib\\site-packages\\sklearn\\linear_model\\logistic.py:436: FutureWarning: Default solver will be changed to 'lbfgs' in 0.22. Specify a solver to silence this warning.\n",
      "  FutureWarning)\n"
     ]
    },
    {
     "name": "stdout",
     "output_type": "stream",
     "text": [
      "               precision    recall  f1-score   support\n",
      "\n",
      "       tauniv      0.547     0.382     0.450        76\n",
      "õigeksmõistev      0.598     0.745     0.664        94\n",
      "\n",
      "    micro avg      0.582     0.582     0.582       170\n",
      "    macro avg      0.573     0.563     0.557       170\n",
      " weighted avg      0.575     0.582     0.568       170\n",
      "\n",
      "Confusion Matrix: [[29 47]\n",
      " [24 70]]\n",
      "               precision    recall  f1-score   support\n",
      "\n",
      "       tauniv      0.600     0.553     0.575        76\n",
      "õigeksmõistev      0.657     0.699     0.677        93\n",
      "\n",
      "    micro avg      0.633     0.633     0.633       169\n",
      "    macro avg      0.628     0.626     0.626       169\n",
      " weighted avg      0.631     0.633     0.631       169\n",
      "\n",
      "Confusion Matrix: [[42 34]\n",
      " [28 65]]\n",
      "               precision    recall  f1-score   support\n",
      "\n",
      "       tauniv      0.579     0.434     0.496        76\n",
      "õigeksmõistev      0.616     0.742     0.673        93\n",
      "\n",
      "    micro avg      0.604     0.604     0.604       169\n",
      "    macro avg      0.598     0.588     0.585       169\n",
      " weighted avg      0.599     0.604     0.594       169\n",
      "\n",
      "Confusion Matrix: [[33 43]\n",
      " [24 69]]\n",
      "Mean accuracy:  0.606346443903005\n",
      "Std for accuracy:  0.02082620148946625\n",
      "C väärtus: 50\n"
     ]
    },
    {
     "name": "stderr",
     "output_type": "stream",
     "text": [
      "C:\\Users\\annel\\anaconda3\\envs\\AL_keskkond\\lib\\site-packages\\sklearn\\linear_model\\logistic.py:436: FutureWarning: Default solver will be changed to 'lbfgs' in 0.22. Specify a solver to silence this warning.\n",
      "  FutureWarning)\n"
     ]
    },
    {
     "name": "stdout",
     "output_type": "stream",
     "text": [
      "               precision    recall  f1-score   support\n",
      "\n",
      "       tauniv      0.569     0.382     0.457        76\n",
      "õigeksmõistev      0.605     0.766     0.676        94\n",
      "\n",
      "    micro avg      0.594     0.594     0.594       170\n",
      "    macro avg      0.587     0.574     0.566       170\n",
      " weighted avg      0.589     0.594     0.578       170\n",
      "\n",
      "Confusion Matrix: [[29 47]\n",
      " [22 72]]\n",
      "               precision    recall  f1-score   support\n",
      "\n",
      "       tauniv      0.600     0.553     0.575        76\n",
      "õigeksmõistev      0.657     0.699     0.677        93\n",
      "\n",
      "    micro avg      0.633     0.633     0.633       169\n",
      "    macro avg      0.628     0.626     0.626       169\n",
      " weighted avg      0.631     0.633     0.631       169\n",
      "\n",
      "Confusion Matrix: [[42 34]\n",
      " [28 65]]\n",
      "               precision    recall  f1-score   support\n",
      "\n",
      "       tauniv      0.596     0.447     0.511        76\n",
      "õigeksmõistev      0.625     0.753     0.683        93\n",
      "\n",
      "    micro avg      0.615     0.615     0.615       169\n",
      "    macro avg      0.611     0.600     0.597       169\n",
      " weighted avg      0.612     0.615     0.606       169\n",
      "\n",
      "Confusion Matrix: [[34 42]\n",
      " [23 70]]\n",
      "Mean accuracy:  0.6142127857059984\n",
      "Std for accuracy:  0.015950751334073785\n"
     ]
    }
   ],
   "source": [
    "from sklearn.model_selection import StratifiedKFold\n",
    "from sklearn.pipeline import Pipeline\n",
    "from sklearn.feature_extraction.text import CountVectorizer\n",
    "from sklearn.feature_extraction.text import TfidfTransformer\n",
    "from sklearn.linear_model import LogisticRegression\n",
    "from sklearn.metrics import classification_report\n",
    "from sklearn.metrics import classification_report, f1_score, accuracy_score, confusion_matrix\n",
    "import numpy as np\n",
    "import matplotlib.pyplot as plt\n",
    "\n",
    "\n",
    "skf =  StratifiedKFold(n_splits=3)\n",
    "\n",
    "c_list = [0.1, 0.2, 0.5, 1, 2, 5, 5.5, 6, 10, 20, 50]\n",
    "#c_list = [0.1, 0.5, 1, 2, 5, 5.5, 6]\n",
    "mean_accuracy = []\n",
    "\n",
    "for c in c_list:\n",
    "    print(\"C väärtus: \" + str(c))\n",
    "    \n",
    "    metrics = []\n",
    "\n",
    "            \n",
    "    for train_index, val_index in skf.split(X_train, y_train):\n",
    "        X_treen, X_val = X_train.iloc[train_index], X_train.iloc[val_index]\n",
    "        y_treen, y_val = y_train.iloc[train_index], y_train.iloc[val_index]\n",
    "        \n",
    "        \n",
    "\n",
    "        pipe = Pipeline([('vect', CountVectorizer(min_df = 3, \n",
    "                                                  stop_words = stopsõnad_uus, \n",
    "                                                  max_df=0.85, \n",
    "                                                  ngram_range=(2,2))),\n",
    "                       ('tfidf', TfidfTransformer(smooth_idf=True,\n",
    "                                                  use_idf=True)),\n",
    "                       ('model', LogisticRegression(C = c))])\n",
    "\n",
    "        # Mudeli sobitamine\n",
    "        model = pipe.fit(X_treen, y_treen)\n",
    "\n",
    "        # Prognoosimine\n",
    "        y_pred = model.predict(X_val)\n",
    "      \n",
    "        metrics.append(accuracy_score(y_val, y_pred))\n",
    "        \n",
    "\n",
    "        print(classification_report(y_val, y_pred, digits = 3))\n",
    "        print('Confusion Matrix:',confusion_matrix(y_val, y_pred))\n",
    "        \n",
    "    metrics = np.array(metrics)\n",
    "    print('Mean accuracy: ', np.mean(metrics, axis=0))\n",
    "    mean_accuracy.append(np.mean(metrics, axis=0))\n",
    "    print('Std for accuracy: ', np.std(metrics, axis=0))"
   ]
  },
  {
   "cell_type": "code",
   "execution_count": 17,
   "metadata": {
    "scrolled": true
   },
   "outputs": [
    {
     "name": "stdout",
     "output_type": "stream",
     "text": [
      "0.1\t 0.5610163592064045\n",
      "0.2\t 0.5846617937115673\n",
      "0.5\t 0.6319178558997564\n",
      "1\t 0.6437521754263836\n",
      "2\t 0.6416869706462466\n",
      "5\t 0.6220443206868546\n",
      "5.5\t 0.6240283095486715\n",
      "6\t 0.6161387631975868\n",
      "10\t 0.6161619677456781\n",
      "20\t 0.606346443903005\n",
      "50\t 0.6142127857059984\n"
     ]
    }
   ],
   "source": [
    "for i in range(len(c_list)):\n",
    "    print(str(c_list[i]) + '\\t ' + str(mean_accuracy[i]))"
   ]
  },
  {
   "cell_type": "code",
   "execution_count": 18,
   "metadata": {},
   "outputs": [
    {
     "data": {
      "text/plain": [
       "[<matplotlib.lines.Line2D at 0x27e82678198>]"
      ]
     },
     "execution_count": 18,
     "metadata": {},
     "output_type": "execute_result"
    },
    {
     "data": {
      "image/png": "[encoded data removed]",
      "text/plain": [
       "<Figure size 432x288 with 1 Axes>"
      ]
     },
     "metadata": {
      "needs_background": "light"
     },
     "output_type": "display_data"
    }
   ],
   "source": [
    "plt.plot(c_list, mean_accuracy)"
   ]
  }
 ],
 "metadata": {
  "kernelspec": {
   "display_name": "Python 3",
   "language": "python",
   "name": "python3"
  },
  "language_info": {
   "codemirror_mode": {
    "name": "ipython",
    "version": 3
   },
   "file_extension": ".py",
   "mimetype": "text/x-python",
   "name": "python",
   "nbconvert_exporter": "python",
   "pygments_lexer": "ipython3",
   "version": "3.6.10"
  }
 },
 "nbformat": 4,
 "nbformat_minor": 4
}
